{
 "cells": [
  {
   "cell_type": "code",
   "execution_count": 2,
   "metadata": {},
   "outputs": [
    {
     "data": {
      "text/html": [
       "<div>\n",
       "<style scoped>\n",
       "    .dataframe tbody tr th:only-of-type {\n",
       "        vertical-align: middle;\n",
       "    }\n",
       "\n",
       "    .dataframe tbody tr th {\n",
       "        vertical-align: top;\n",
       "    }\n",
       "\n",
       "    .dataframe thead th {\n",
       "        text-align: right;\n",
       "    }\n",
       "</style>\n",
       "<table border=\"1\" class=\"dataframe\">\n",
       "  <thead>\n",
       "    <tr style=\"text-align: right;\">\n",
       "      <th></th>\n",
       "      <th>winner</th>\n",
       "      <th>movie_title</th>\n",
       "      <th>cast</th>\n",
       "      <th>crew</th>\n",
       "      <th>budget</th>\n",
       "      <th>genres</th>\n",
       "      <th>keywords</th>\n",
       "      <th>original_language</th>\n",
       "      <th>original_title</th>\n",
       "      <th>overview</th>\n",
       "      <th>...</th>\n",
       "      <th>release_date</th>\n",
       "      <th>revenue</th>\n",
       "      <th>runtime</th>\n",
       "      <th>spoken_languages</th>\n",
       "      <th>status</th>\n",
       "      <th>tagline</th>\n",
       "      <th>title</th>\n",
       "      <th>vote_average</th>\n",
       "      <th>vote_count</th>\n",
       "      <th>Bechdel_Test</th>\n",
       "    </tr>\n",
       "  </thead>\n",
       "  <tbody>\n",
       "    <tr>\n",
       "      <th>0</th>\n",
       "      <td>1.0</td>\n",
       "      <td>lawrence of arabia</td>\n",
       "      <td>[{\"cast_id\": 18, \"character\": \"T.E. Lawrence\",...</td>\n",
       "      <td>[{\"credit_id\": \"5715157dc3a3684122010c0c\", \"de...</td>\n",
       "      <td>15000000.0</td>\n",
       "      <td>[{\"id\": 12, \"name\": \"Adventure\"}, {\"id\": 18, \"...</td>\n",
       "      <td>[{\"id\": 487, \"name\": \"cairo\"}, {\"id\": 1975, \"n...</td>\n",
       "      <td>en</td>\n",
       "      <td>Lawrence of Arabia</td>\n",
       "      <td>An epic about British officer T.E. Lawrence's ...</td>\n",
       "      <td>...</td>\n",
       "      <td>1962-12-10</td>\n",
       "      <td>69995385.0</td>\n",
       "      <td>216.0</td>\n",
       "      <td>[{\"iso_639_1\": \"ar\", \"name\": \"\\u0627\\u0644\\u06...</td>\n",
       "      <td>Released</td>\n",
       "      <td>NaN</td>\n",
       "      <td>Lawrence of Arabia</td>\n",
       "      <td>7.8</td>\n",
       "      <td>851.0</td>\n",
       "      <td>1.0</td>\n",
       "    </tr>\n",
       "    <tr>\n",
       "      <th>1</th>\n",
       "      <td>1.0</td>\n",
       "      <td>the longest day</td>\n",
       "      <td>[{\"cast_id\": 20, \"character\": \"Col. Thompson\",...</td>\n",
       "      <td>[{\"credit_id\": \"53ba7918c3a3685eb1006f7a\", \"de...</td>\n",
       "      <td>10000000.0</td>\n",
       "      <td>[{\"id\": 28, \"name\": \"Action\"}, {\"id\": 18, \"nam...</td>\n",
       "      <td>[{\"id\": 1956, \"name\": \"world war ii\"}, {\"id\": ...</td>\n",
       "      <td>en</td>\n",
       "      <td>The Longest Day</td>\n",
       "      <td>The retelling of June 6, 1944, from the perspe...</td>\n",
       "      <td>...</td>\n",
       "      <td>1962-09-25</td>\n",
       "      <td>50100000.0</td>\n",
       "      <td>178.0</td>\n",
       "      <td>[{\"iso_639_1\": \"en\", \"name\": \"English\"}, {\"iso...</td>\n",
       "      <td>Released</td>\n",
       "      <td>This is the day that changed the world... When...</td>\n",
       "      <td>The Longest Day</td>\n",
       "      <td>7.2</td>\n",
       "      <td>234.0</td>\n",
       "      <td>0.0</td>\n",
       "    </tr>\n",
       "    <tr>\n",
       "      <th>2</th>\n",
       "      <td>1.0</td>\n",
       "      <td>to kill a mockingbird</td>\n",
       "      <td>[{\"cast_id\": 8, \"character\": \"Atticus Finch\", ...</td>\n",
       "      <td>[{\"credit_id\": \"52fe4259c3a36847f8017773\", \"de...</td>\n",
       "      <td>2000000.0</td>\n",
       "      <td>[{\"id\": 80, \"name\": \"Crime\"}, {\"id\": 18, \"name...</td>\n",
       "      <td>[{\"id\": 577, \"name\": \"black people\"}, {\"id\": 8...</td>\n",
       "      <td>en</td>\n",
       "      <td>To Kill a Mockingbird</td>\n",
       "      <td>In a small Alabama town in the 1930s, scrupulo...</td>\n",
       "      <td>...</td>\n",
       "      <td>1962-12-25</td>\n",
       "      <td>13129846.0</td>\n",
       "      <td>129.0</td>\n",
       "      <td>[{\"iso_639_1\": \"en\", \"name\": \"English\"}]</td>\n",
       "      <td>Released</td>\n",
       "      <td>NaN</td>\n",
       "      <td>To Kill a Mockingbird</td>\n",
       "      <td>8.0</td>\n",
       "      <td>657.0</td>\n",
       "      <td>1.0</td>\n",
       "    </tr>\n",
       "  </tbody>\n",
       "</table>\n",
       "<p>3 rows × 23 columns</p>\n",
       "</div>"
      ],
      "text/plain": [
       "   winner            movie_title  \\\n",
       "0     1.0     lawrence of arabia   \n",
       "1     1.0        the longest day   \n",
       "2     1.0  to kill a mockingbird   \n",
       "\n",
       "                                                cast  \\\n",
       "0  [{\"cast_id\": 18, \"character\": \"T.E. Lawrence\",...   \n",
       "1  [{\"cast_id\": 20, \"character\": \"Col. Thompson\",...   \n",
       "2  [{\"cast_id\": 8, \"character\": \"Atticus Finch\", ...   \n",
       "\n",
       "                                                crew      budget  \\\n",
       "0  [{\"credit_id\": \"5715157dc3a3684122010c0c\", \"de...  15000000.0   \n",
       "1  [{\"credit_id\": \"53ba7918c3a3685eb1006f7a\", \"de...  10000000.0   \n",
       "2  [{\"credit_id\": \"52fe4259c3a36847f8017773\", \"de...   2000000.0   \n",
       "\n",
       "                                              genres  \\\n",
       "0  [{\"id\": 12, \"name\": \"Adventure\"}, {\"id\": 18, \"...   \n",
       "1  [{\"id\": 28, \"name\": \"Action\"}, {\"id\": 18, \"nam...   \n",
       "2  [{\"id\": 80, \"name\": \"Crime\"}, {\"id\": 18, \"name...   \n",
       "\n",
       "                                            keywords original_language  \\\n",
       "0  [{\"id\": 487, \"name\": \"cairo\"}, {\"id\": 1975, \"n...                en   \n",
       "1  [{\"id\": 1956, \"name\": \"world war ii\"}, {\"id\": ...                en   \n",
       "2  [{\"id\": 577, \"name\": \"black people\"}, {\"id\": 8...                en   \n",
       "\n",
       "          original_title                                           overview  \\\n",
       "0     Lawrence of Arabia  An epic about British officer T.E. Lawrence's ...   \n",
       "1        The Longest Day  The retelling of June 6, 1944, from the perspe...   \n",
       "2  To Kill a Mockingbird  In a small Alabama town in the 1930s, scrupulo...   \n",
       "\n",
       "   ...  release_date     revenue runtime  \\\n",
       "0  ...    1962-12-10  69995385.0   216.0   \n",
       "1  ...    1962-09-25  50100000.0   178.0   \n",
       "2  ...    1962-12-25  13129846.0   129.0   \n",
       "\n",
       "                                    spoken_languages    status  \\\n",
       "0  [{\"iso_639_1\": \"ar\", \"name\": \"\\u0627\\u0644\\u06...  Released   \n",
       "1  [{\"iso_639_1\": \"en\", \"name\": \"English\"}, {\"iso...  Released   \n",
       "2           [{\"iso_639_1\": \"en\", \"name\": \"English\"}]  Released   \n",
       "\n",
       "                                             tagline                  title  \\\n",
       "0                                                NaN     Lawrence of Arabia   \n",
       "1  This is the day that changed the world... When...        The Longest Day   \n",
       "2                                                NaN  To Kill a Mockingbird   \n",
       "\n",
       "  vote_average vote_count Bechdel_Test  \n",
       "0          7.8      851.0          1.0  \n",
       "1          7.2      234.0          0.0  \n",
       "2          8.0      657.0          1.0  \n",
       "\n",
       "[3 rows x 23 columns]"
      ]
     },
     "execution_count": 2,
     "metadata": {},
     "output_type": "execute_result"
    }
   ],
   "source": [
    "import pandas as pd\n",
    "df = pd.read_csv(\"BECHDEL___masterList.csv\", dtype={'budget': float, 'revenue': float, \n",
    "                                                    'vote_count': float, 'Bechdel_Test': float})\n",
    "df.head(3)"
   ]
  },
  {
   "cell_type": "code",
   "execution_count": 4,
   "metadata": {},
   "outputs": [
    {
     "data": {
      "text/html": [
       "<div>\n",
       "<style scoped>\n",
       "    .dataframe tbody tr th:only-of-type {\n",
       "        vertical-align: middle;\n",
       "    }\n",
       "\n",
       "    .dataframe tbody tr th {\n",
       "        vertical-align: top;\n",
       "    }\n",
       "\n",
       "    .dataframe thead th {\n",
       "        text-align: right;\n",
       "    }\n",
       "</style>\n",
       "<table border=\"1\" class=\"dataframe\">\n",
       "  <thead>\n",
       "    <tr style=\"text-align: right;\">\n",
       "      <th></th>\n",
       "      <th>winner</th>\n",
       "      <th>movie_title</th>\n",
       "      <th>cast</th>\n",
       "      <th>crew</th>\n",
       "      <th>genres</th>\n",
       "      <th>keywords</th>\n",
       "      <th>original_language</th>\n",
       "      <th>original_title</th>\n",
       "      <th>overview</th>\n",
       "      <th>production_companies</th>\n",
       "      <th>production_countries</th>\n",
       "      <th>release_date</th>\n",
       "      <th>runtime</th>\n",
       "      <th>spoken_languages</th>\n",
       "      <th>status</th>\n",
       "      <th>tagline</th>\n",
       "      <th>title</th>\n",
       "      <th>vote_average</th>\n",
       "      <th>vote_count</th>\n",
       "      <th>Bechdel_Test</th>\n",
       "    </tr>\n",
       "  </thead>\n",
       "  <tbody>\n",
       "    <tr>\n",
       "      <th>0</th>\n",
       "      <td>1.0</td>\n",
       "      <td>lawrence of arabia</td>\n",
       "      <td>[{\"cast_id\": 18, \"character\": \"T.E. Lawrence\",...</td>\n",
       "      <td>[{\"credit_id\": \"5715157dc3a3684122010c0c\", \"de...</td>\n",
       "      <td>[{\"id\": 12, \"name\": \"Adventure\"}, {\"id\": 18, \"...</td>\n",
       "      <td>[{\"id\": 487, \"name\": \"cairo\"}, {\"id\": 1975, \"n...</td>\n",
       "      <td>en</td>\n",
       "      <td>Lawrence of Arabia</td>\n",
       "      <td>An epic about British officer T.E. Lawrence's ...</td>\n",
       "      <td>[{\"name\": \"Horizon Pictures (II)\", \"id\": 11356}]</td>\n",
       "      <td>[{\"iso_3166_1\": \"GB\", \"name\": \"United Kingdom\"}]</td>\n",
       "      <td>1962-12-10</td>\n",
       "      <td>216.0</td>\n",
       "      <td>[{\"iso_639_1\": \"ar\", \"name\": \"\\u0627\\u0644\\u06...</td>\n",
       "      <td>Released</td>\n",
       "      <td>NaN</td>\n",
       "      <td>Lawrence of Arabia</td>\n",
       "      <td>7.8</td>\n",
       "      <td>851.0</td>\n",
       "      <td>1.0</td>\n",
       "    </tr>\n",
       "    <tr>\n",
       "      <th>1</th>\n",
       "      <td>1.0</td>\n",
       "      <td>the longest day</td>\n",
       "      <td>[{\"cast_id\": 20, \"character\": \"Col. Thompson\",...</td>\n",
       "      <td>[{\"credit_id\": \"53ba7918c3a3685eb1006f7a\", \"de...</td>\n",
       "      <td>[{\"id\": 28, \"name\": \"Action\"}, {\"id\": 18, \"nam...</td>\n",
       "      <td>[{\"id\": 1956, \"name\": \"world war ii\"}, {\"id\": ...</td>\n",
       "      <td>en</td>\n",
       "      <td>The Longest Day</td>\n",
       "      <td>The retelling of June 6, 1944, from the perspe...</td>\n",
       "      <td>[{\"name\": \"Twentieth Century Fox Film Corporat...</td>\n",
       "      <td>[{\"iso_3166_1\": \"US\", \"name\": \"United States o...</td>\n",
       "      <td>1962-09-25</td>\n",
       "      <td>178.0</td>\n",
       "      <td>[{\"iso_639_1\": \"en\", \"name\": \"English\"}, {\"iso...</td>\n",
       "      <td>Released</td>\n",
       "      <td>This is the day that changed the world... When...</td>\n",
       "      <td>The Longest Day</td>\n",
       "      <td>7.2</td>\n",
       "      <td>234.0</td>\n",
       "      <td>0.0</td>\n",
       "    </tr>\n",
       "    <tr>\n",
       "      <th>2</th>\n",
       "      <td>1.0</td>\n",
       "      <td>to kill a mockingbird</td>\n",
       "      <td>[{\"cast_id\": 8, \"character\": \"Atticus Finch\", ...</td>\n",
       "      <td>[{\"credit_id\": \"52fe4259c3a36847f8017773\", \"de...</td>\n",
       "      <td>[{\"id\": 80, \"name\": \"Crime\"}, {\"id\": 18, \"name...</td>\n",
       "      <td>[{\"id\": 577, \"name\": \"black people\"}, {\"id\": 8...</td>\n",
       "      <td>en</td>\n",
       "      <td>To Kill a Mockingbird</td>\n",
       "      <td>In a small Alabama town in the 1930s, scrupulo...</td>\n",
       "      <td>[{\"name\": \"Universal Pictures\", \"id\": 33}]</td>\n",
       "      <td>[{\"iso_3166_1\": \"US\", \"name\": \"United States o...</td>\n",
       "      <td>1962-12-25</td>\n",
       "      <td>129.0</td>\n",
       "      <td>[{\"iso_639_1\": \"en\", \"name\": \"English\"}]</td>\n",
       "      <td>Released</td>\n",
       "      <td>NaN</td>\n",
       "      <td>To Kill a Mockingbird</td>\n",
       "      <td>8.0</td>\n",
       "      <td>657.0</td>\n",
       "      <td>1.0</td>\n",
       "    </tr>\n",
       "  </tbody>\n",
       "</table>\n",
       "</div>"
      ],
      "text/plain": [
       "   winner            movie_title  \\\n",
       "0     1.0     lawrence of arabia   \n",
       "1     1.0        the longest day   \n",
       "2     1.0  to kill a mockingbird   \n",
       "\n",
       "                                                cast  \\\n",
       "0  [{\"cast_id\": 18, \"character\": \"T.E. Lawrence\",...   \n",
       "1  [{\"cast_id\": 20, \"character\": \"Col. Thompson\",...   \n",
       "2  [{\"cast_id\": 8, \"character\": \"Atticus Finch\", ...   \n",
       "\n",
       "                                                crew  \\\n",
       "0  [{\"credit_id\": \"5715157dc3a3684122010c0c\", \"de...   \n",
       "1  [{\"credit_id\": \"53ba7918c3a3685eb1006f7a\", \"de...   \n",
       "2  [{\"credit_id\": \"52fe4259c3a36847f8017773\", \"de...   \n",
       "\n",
       "                                              genres  \\\n",
       "0  [{\"id\": 12, \"name\": \"Adventure\"}, {\"id\": 18, \"...   \n",
       "1  [{\"id\": 28, \"name\": \"Action\"}, {\"id\": 18, \"nam...   \n",
       "2  [{\"id\": 80, \"name\": \"Crime\"}, {\"id\": 18, \"name...   \n",
       "\n",
       "                                            keywords original_language  \\\n",
       "0  [{\"id\": 487, \"name\": \"cairo\"}, {\"id\": 1975, \"n...                en   \n",
       "1  [{\"id\": 1956, \"name\": \"world war ii\"}, {\"id\": ...                en   \n",
       "2  [{\"id\": 577, \"name\": \"black people\"}, {\"id\": 8...                en   \n",
       "\n",
       "          original_title                                           overview  \\\n",
       "0     Lawrence of Arabia  An epic about British officer T.E. Lawrence's ...   \n",
       "1        The Longest Day  The retelling of June 6, 1944, from the perspe...   \n",
       "2  To Kill a Mockingbird  In a small Alabama town in the 1930s, scrupulo...   \n",
       "\n",
       "                                production_companies  \\\n",
       "0   [{\"name\": \"Horizon Pictures (II)\", \"id\": 11356}]   \n",
       "1  [{\"name\": \"Twentieth Century Fox Film Corporat...   \n",
       "2         [{\"name\": \"Universal Pictures\", \"id\": 33}]   \n",
       "\n",
       "                                production_countries release_date  runtime  \\\n",
       "0   [{\"iso_3166_1\": \"GB\", \"name\": \"United Kingdom\"}]   1962-12-10    216.0   \n",
       "1  [{\"iso_3166_1\": \"US\", \"name\": \"United States o...   1962-09-25    178.0   \n",
       "2  [{\"iso_3166_1\": \"US\", \"name\": \"United States o...   1962-12-25    129.0   \n",
       "\n",
       "                                    spoken_languages    status  \\\n",
       "0  [{\"iso_639_1\": \"ar\", \"name\": \"\\u0627\\u0644\\u06...  Released   \n",
       "1  [{\"iso_639_1\": \"en\", \"name\": \"English\"}, {\"iso...  Released   \n",
       "2           [{\"iso_639_1\": \"en\", \"name\": \"English\"}]  Released   \n",
       "\n",
       "                                             tagline                  title  \\\n",
       "0                                                NaN     Lawrence of Arabia   \n",
       "1  This is the day that changed the world... When...        The Longest Day   \n",
       "2                                                NaN  To Kill a Mockingbird   \n",
       "\n",
       "   vote_average  vote_count  Bechdel_Test  \n",
       "0           7.8       851.0           1.0  \n",
       "1           7.2       234.0           0.0  \n",
       "2           8.0       657.0           1.0  "
      ]
     },
     "execution_count": 4,
     "metadata": {},
     "output_type": "execute_result"
    }
   ],
   "source": [
    "df = df.drop(['revenue', 'popularity', 'budget'], axis=1)\n",
    "df.head(3)"
   ]
  },
  {
   "cell_type": "code",
   "execution_count": 3,
   "metadata": {},
   "outputs": [
    {
     "name": "stdout",
     "output_type": "stream",
     "text": [
      "Count of Failed Bechdel Tests Films:  2806\n",
      "\n",
      "Count of Passed Bechdel Tests Films:  1989\n"
     ]
    },
    {
     "data": {
      "text/plain": [
       "<matplotlib.axes._subplots.AxesSubplot at 0x120791240>"
      ]
     },
     "execution_count": 3,
     "metadata": {},
     "output_type": "execute_result"
    }
   ],
   "source": [
    "###### Pre-OneHot Encoding Plots ######\n",
    "#######################################\n",
    "import seaborn as sns\n",
    "import matplotlib.pyplot as plt\n",
    "\n",
    "print(\"Count of Failed Bechdel Tests Films: \", len(df.loc[df['Bechdel_Test'] == 0]))\n",
    "print(\"\\nCount of Passed Bechdel Tests Films: \", len(df.loc[df['Bechdel_Test'] == 1]))\n",
    "\n",
    "# Basic Bar Graph compares films passing the Bechdel Test vs. films failing.\n",
    "sns.countplot(x='Bechdel_Test', data = df)"
   ]
  },
  {
   "cell_type": "code",
   "execution_count": 4,
   "metadata": {},
   "outputs": [
    {
     "name": "stdout",
     "output_type": "stream",
     "text": [
      "The strongest correlating attribute of Winning = Revenue\n",
      "\n",
      "There also appear to be other moderate (+70%) correlations of: \n",
      "---Budget/Revenue, \n",
      "---Popularity/Vote_Count, \n",
      "---Revenue/Vote_Count\n"
     ]
    },
    {
     "data": {
      "image/png": "[encoded data removed]",
      "text/plain": [
       "<Figure size 432x288 with 2 Axes>"
      ]
     },
     "metadata": {
      "needs_background": "light"
     },
     "output_type": "display_data"
    }
   ],
   "source": [
    "# Heatmap Correlation Analysis\n",
    "g = sns.heatmap(df[['budget','popularity','revenue','runtime','vote_average','vote_count', 'winner', 'Bechdel_Test']].corr(),cmap='RdYlGn',annot=True)\n",
    "\n",
    "print(\"The strongest correlating attribute of Winning = Revenue\\n\\nThere also appear to be other moderate (+70%) correlations of: \\n---Budget/Revenue, \\n---Popularity/Vote_Count, \\n---Revenue/Vote_Count\")"
   ]
  },
  {
   "cell_type": "code",
   "execution_count": 5,
   "metadata": {},
   "outputs": [
    {
     "name": "stdout",
     "output_type": "stream",
     "text": [
      "There is small ~10% correlation to Winning/Passed-Bechdel\n"
     ]
    },
    {
     "data": {
      "image/png": "[encoded data removed]",
      "text/plain": [
       "<Figure size 432x288 with 2 Axes>"
      ]
     },
     "metadata": {
      "needs_background": "light"
     },
     "output_type": "display_data"
    }
   ],
   "source": [
    "g = sns.heatmap(df[['winner', 'Bechdel_Test']].corr(),cmap='RdYlGn',annot=True)\n",
    "\n",
    "print(\"There is small ~10% correlation to Winning/Passed-Bechdel\")"
   ]
  },
  {
   "cell_type": "code",
   "execution_count": 6,
   "metadata": {},
   "outputs": [
    {
     "name": "stdout",
     "output_type": "stream",
     "text": [
      "X Axis:\n",
      "\n",
      "---0.0 = Failed Bechdel Test\n",
      "---1.0 = Passed Bechdel Test\n"
     ]
    },
    {
     "name": "stderr",
     "output_type": "stream",
     "text": [
      "/anaconda3/lib/python3.7/site-packages/scipy/stats/stats.py:1713: FutureWarning: Using a non-tuple sequence for multidimensional indexing is deprecated; use `arr[tuple(seq)]` instead of `arr[seq]`. In the future this will be interpreted as an array index, `arr[np.array(seq)]`, which will result either in an error or a different result.\n",
      "  return np.add.reduce(sorted[indexer] * weights, axis=axis) / sumval\n"
     ]
    },
    {
     "data": {
      "image/png": "[encoded data removed]",
      "text/plain": [
       "<Figure size 432x288 with 1 Axes>"
      ]
     },
     "metadata": {
      "needs_background": "light"
     },
     "output_type": "display_data"
    }
   ],
   "source": [
    "# Density Curve: Bechel Test\n",
    "bTest0 = df[df['winner'] == 0]['Bechdel_Test']\n",
    "bTest1 = df[df['winner'] == 1]['Bechdel_Test']\n",
    "\n",
    "g = sns.kdeplot(bTest0, legend = True, shade=True, color='r', label = 'non-nominated')\n",
    "g = sns.kdeplot(bTest1, legend = True, shade=True, color='b', label = 'nominated')\n",
    "\n",
    "print(\"X Axis:\\n\\n---0.0 = Failed Bechdel Test\\n---1.0 = Passed Bechdel Test\")\n",
    "#todo:::   change the x ticks to represent that"
   ]
  },
  {
   "cell_type": "code",
   "execution_count": 7,
   "metadata": {},
   "outputs": [
    {
     "name": "stdout",
     "output_type": "stream",
     "text": [
      "     Comedy  Animation   Fantasy   History  TV Movie  Western     Drama  \\\n",
      "0  0.143513   0.018944  0.032721  0.017796  0.000718  0.00775  0.189868   \n",
      "1  0.138717   0.019706  0.037867  0.014104  0.000580  0.00541  0.187210   \n",
      "\n",
      "    Foreign    Family  Documentary     Music    Horror   Romance       War  \\\n",
      "0  0.003875  0.044202     0.014351  0.015643  0.042623  0.074627  0.013347   \n",
      "1  0.001352  0.039413     0.001739  0.014683  0.042890  0.072063  0.009853   \n",
      "\n",
      "   Science Fiction    Action   Mystery     Crime  Thriller  Adventure  \n",
      "0         0.038031  0.093427  0.025689  0.055396  0.102038   0.065442  \n",
      "1         0.051971  0.096986  0.032651  0.059892  0.108385   0.064529  \n"
     ]
    }
   ],
   "source": [
    "import json\n",
    "import numpy as np\n",
    "\n",
    "genres_name0 = {}\n",
    "genres_name1 = {}\n",
    "genres_set = set()\n",
    "\n",
    "# Fancy Itterrows() looks for Bechdel_Test result bool, if a dictionary with the name of the\n",
    "# current movie doesn't exist in the genres_name0/1 then one is appended with a tally count\n",
    "# of 1. If a dict already exists then the tally count is increased by 1.\n",
    "for i in range(len(df)):\n",
    "    genres = json.loads(df.loc[i,'genres'])\n",
    "    for it in genres:\n",
    "        genres_set.add(it['name'])\n",
    "        if df.loc[i,'Bechdel_Test'] == 0:\n",
    "            if it['name'] not in genres_name0:\n",
    "                genres_name0[it['name']] = 1\n",
    "            else:\n",
    "                genres_name0[it['name']] += 1\n",
    "        if df.loc[i,'Bechdel_Test'] == 1:\n",
    "            if it['name'] not in genres_name1:\n",
    "                genres_name1[it['name']] = 1\n",
    "            else:\n",
    "                genres_name1[it['name']] += 1\n",
    "            \n",
    "genres_array0=[]\n",
    "genres_array1=[]\n",
    "\n",
    "# Binning of Genre names\n",
    "for g in genres_set:\n",
    "    if g in genres_name0:\n",
    "        genres_array0.append(genres_name0[g])\n",
    "    else:\n",
    "        genres_array0.append(0)\n",
    "    if g in genres_name1:\n",
    "        genres_array1.append(genres_name1[g])\n",
    "    else:\n",
    "        genres_array1.append(0)\n",
    "\n",
    "# NumPy % of whole calculations for upcoming plot\n",
    "genres_all = []\n",
    "genres_all.append(np.array(genres_array0)/sum(genres_array0))\n",
    "genres_all.append(np.array(genres_array1)/sum(genres_array1))\n",
    "\n",
    "# New DF creation to hold the by-Genre data\n",
    "df_genres = pd.DataFrame(genres_all, columns=list(genres_set))\n",
    "print(df_genres.head())"
   ]
  },
  {
   "cell_type": "code",
   "execution_count": 8,
   "metadata": {},
   "outputs": [
    {
     "data": {
      "text/plain": [
       "<matplotlib.legend.Legend at 0x12110ecf8>"
      ]
     },
     "execution_count": 8,
     "metadata": {},
     "output_type": "execute_result"
    },
    {
     "data": {
      "image/png": "[encoded data removed]",
      "text/plain": [
       "<Figure size 1440x720 with 1 Axes>"
      ]
     },
     "metadata": {
      "needs_background": "light"
     },
     "output_type": "display_data"
    }
   ],
   "source": [
    "# Stacked Bars: Bechdel Test % / Movie Genres\n",
    "N = len(df_genres.columns)\n",
    "ind = np.arange(N)\n",
    "width = 0.5\n",
    "\n",
    "plt.figure(figsize=(20,10))\n",
    "p1 = plt.bar(ind, df_genres.loc[[0]].values[0], width, color='#d62728')\n",
    "p2 = plt.bar(ind, df_genres.loc[[1]].values[0], width, bottom=df_genres.loc[[0]].values[0])\n",
    "\n",
    "plt.ylabel('percentage (#genres/#movies)')\n",
    "plt.title('Percentage by genres and Bechel Test pass')\n",
    "plt.xticks(ind,df_genres.columns)\n",
    "plt.legend((p1[0],p2[0]),('failed-Bechdel','passed-Bechdel'))"
   ]
  },
  {
   "cell_type": "code",
   "execution_count": 9,
   "metadata": {},
   "outputs": [],
   "source": [
    "###### One-Hot Encoding --- ML Preperation ######\n",
    "#################################################\n",
    "\n",
    "# Since many columns such as “crew”, “cast” contain information in json format, we need to \n",
    "# extract useful information from the columns and then perform one hot encoding.\n",
    "# We will transform our dataset into a all numeric matrix so that we can feed the data into \n",
    "# our machine learning model.\n",
    "# To look at the structure of column (eg.”cast”), we can use: df.loc[0,’cast’]\n",
    "\n",
    "def feature_engineering(column_name, df, json_name):\n",
    "    \"\"\"\n",
    "    Args:\n",
    "        column_name: the column name in the dataframe that contains a json file that needs to \n",
    "        conduct feature engineering on \n",
    "        \n",
    "        df: dataframe that perform feature engineering on\n",
    "        \n",
    "        json_name: name in the json file that we want to extract\n",
    "    \n",
    "    Returns: new dataframe after feature engineering\n",
    "    \"\"\"\n",
    "    \n",
    "    name = {}\n",
    "\n",
    "    for item in df[column_name]:\n",
    "        group = json.loads(item)\n",
    "        for it in group:\n",
    "            if it[json_name] not in name:\n",
    "                name[it[json_name]] = 1\n",
    "            else:\n",
    "                name[it[json_name]] += 1\n",
    "    \n",
    "    final = {}\n",
    "    index = 0\n",
    "    for k,v in name.items():\n",
    "        if v > 1:\n",
    "            final[k] = index\n",
    "            index += 1\n",
    "    np_item = np.zeros((len(df),len(final)))\n",
    "    item_dict = {}\n",
    "    row = 0\n",
    "    for item in df[column_name]:\n",
    "        group = json.loads(item)\n",
    "        for it in group:\n",
    "            if it[json_name] in final:\n",
    "                index = final[it[json_name]]\n",
    "                np_item[row][index] = 1\n",
    "        row += 1\n",
    "\n",
    "    df_item = pd.DataFrame(np_item, columns = list(final.keys()))\n",
    "    df_output = pd.concat([df,df_item],axis = 1)\n",
    "    \n",
    "    return df_output"
   ]
  },
  {
   "cell_type": "code",
   "execution_count": 10,
   "metadata": {},
   "outputs": [
    {
     "data": {
      "text/html": [
       "<div>\n",
       "<style scoped>\n",
       "    .dataframe tbody tr th:only-of-type {\n",
       "        vertical-align: middle;\n",
       "    }\n",
       "\n",
       "    .dataframe tbody tr th {\n",
       "        vertical-align: top;\n",
       "    }\n",
       "\n",
       "    .dataframe thead th {\n",
       "        text-align: right;\n",
       "    }\n",
       "</style>\n",
       "<table border=\"1\" class=\"dataframe\">\n",
       "  <thead>\n",
       "    <tr style=\"text-align: right;\">\n",
       "      <th></th>\n",
       "      <th>winner</th>\n",
       "      <th>movie_title</th>\n",
       "      <th>crew</th>\n",
       "      <th>budget</th>\n",
       "      <th>genres</th>\n",
       "      <th>keywords</th>\n",
       "      <th>original_language</th>\n",
       "      <th>original_title</th>\n",
       "      <th>overview</th>\n",
       "      <th>popularity</th>\n",
       "      <th>...</th>\n",
       "      <th>Will Oldham</th>\n",
       "      <th>Jace Casey</th>\n",
       "      <th>Maryette Charlton</th>\n",
       "      <th>Pamela Shaw</th>\n",
       "      <th>King Donovan</th>\n",
       "      <th>Richard Carroll Jr.</th>\n",
       "      <th>Elissa Dowling</th>\n",
       "      <th>David Call</th>\n",
       "      <th>Andrew Bujalski</th>\n",
       "      <th>Ricardo Garcia</th>\n",
       "    </tr>\n",
       "  </thead>\n",
       "  <tbody>\n",
       "    <tr>\n",
       "      <th>0</th>\n",
       "      <td>1.0</td>\n",
       "      <td>lawrence of arabia</td>\n",
       "      <td>[{\"credit_id\": \"5715157dc3a3684122010c0c\", \"de...</td>\n",
       "      <td>15000000.0</td>\n",
       "      <td>[{\"id\": 12, \"name\": \"Adventure\"}, {\"id\": 18, \"...</td>\n",
       "      <td>[{\"id\": 487, \"name\": \"cairo\"}, {\"id\": 1975, \"n...</td>\n",
       "      <td>en</td>\n",
       "      <td>Lawrence of Arabia</td>\n",
       "      <td>An epic about British officer T.E. Lawrence's ...</td>\n",
       "      <td>41.286336</td>\n",
       "      <td>...</td>\n",
       "      <td>0.0</td>\n",
       "      <td>0.0</td>\n",
       "      <td>0.0</td>\n",
       "      <td>0.0</td>\n",
       "      <td>0.0</td>\n",
       "      <td>0.0</td>\n",
       "      <td>0.0</td>\n",
       "      <td>0.0</td>\n",
       "      <td>0.0</td>\n",
       "      <td>0.0</td>\n",
       "    </tr>\n",
       "    <tr>\n",
       "      <th>1</th>\n",
       "      <td>1.0</td>\n",
       "      <td>the longest day</td>\n",
       "      <td>[{\"credit_id\": \"53ba7918c3a3685eb1006f7a\", \"de...</td>\n",
       "      <td>10000000.0</td>\n",
       "      <td>[{\"id\": 28, \"name\": \"Action\"}, {\"id\": 18, \"nam...</td>\n",
       "      <td>[{\"id\": 1956, \"name\": \"world war ii\"}, {\"id\": ...</td>\n",
       "      <td>en</td>\n",
       "      <td>The Longest Day</td>\n",
       "      <td>The retelling of June 6, 1944, from the perspe...</td>\n",
       "      <td>19.524972</td>\n",
       "      <td>...</td>\n",
       "      <td>0.0</td>\n",
       "      <td>0.0</td>\n",
       "      <td>0.0</td>\n",
       "      <td>0.0</td>\n",
       "      <td>0.0</td>\n",
       "      <td>0.0</td>\n",
       "      <td>0.0</td>\n",
       "      <td>0.0</td>\n",
       "      <td>0.0</td>\n",
       "      <td>0.0</td>\n",
       "    </tr>\n",
       "    <tr>\n",
       "      <th>2</th>\n",
       "      <td>1.0</td>\n",
       "      <td>to kill a mockingbird</td>\n",
       "      <td>[{\"credit_id\": \"52fe4259c3a36847f8017773\", \"de...</td>\n",
       "      <td>2000000.0</td>\n",
       "      <td>[{\"id\": 80, \"name\": \"Crime\"}, {\"id\": 18, \"name...</td>\n",
       "      <td>[{\"id\": 577, \"name\": \"black people\"}, {\"id\": 8...</td>\n",
       "      <td>en</td>\n",
       "      <td>To Kill a Mockingbird</td>\n",
       "      <td>In a small Alabama town in the 1930s, scrupulo...</td>\n",
       "      <td>22.139842</td>\n",
       "      <td>...</td>\n",
       "      <td>0.0</td>\n",
       "      <td>0.0</td>\n",
       "      <td>0.0</td>\n",
       "      <td>0.0</td>\n",
       "      <td>0.0</td>\n",
       "      <td>0.0</td>\n",
       "      <td>0.0</td>\n",
       "      <td>0.0</td>\n",
       "      <td>0.0</td>\n",
       "      <td>0.0</td>\n",
       "    </tr>\n",
       "  </tbody>\n",
       "</table>\n",
       "<p>3 rows × 15820 columns</p>\n",
       "</div>"
      ],
      "text/plain": [
       "   winner            movie_title  \\\n",
       "0     1.0     lawrence of arabia   \n",
       "1     1.0        the longest day   \n",
       "2     1.0  to kill a mockingbird   \n",
       "\n",
       "                                                crew      budget  \\\n",
       "0  [{\"credit_id\": \"5715157dc3a3684122010c0c\", \"de...  15000000.0   \n",
       "1  [{\"credit_id\": \"53ba7918c3a3685eb1006f7a\", \"de...  10000000.0   \n",
       "2  [{\"credit_id\": \"52fe4259c3a36847f8017773\", \"de...   2000000.0   \n",
       "\n",
       "                                              genres  \\\n",
       "0  [{\"id\": 12, \"name\": \"Adventure\"}, {\"id\": 18, \"...   \n",
       "1  [{\"id\": 28, \"name\": \"Action\"}, {\"id\": 18, \"nam...   \n",
       "2  [{\"id\": 80, \"name\": \"Crime\"}, {\"id\": 18, \"name...   \n",
       "\n",
       "                                            keywords original_language  \\\n",
       "0  [{\"id\": 487, \"name\": \"cairo\"}, {\"id\": 1975, \"n...                en   \n",
       "1  [{\"id\": 1956, \"name\": \"world war ii\"}, {\"id\": ...                en   \n",
       "2  [{\"id\": 577, \"name\": \"black people\"}, {\"id\": 8...                en   \n",
       "\n",
       "          original_title                                           overview  \\\n",
       "0     Lawrence of Arabia  An epic about British officer T.E. Lawrence's ...   \n",
       "1        The Longest Day  The retelling of June 6, 1944, from the perspe...   \n",
       "2  To Kill a Mockingbird  In a small Alabama town in the 1930s, scrupulo...   \n",
       "\n",
       "   popularity  ... Will Oldham Jace Casey Maryette Charlton  Pamela Shaw  \\\n",
       "0   41.286336  ...         0.0        0.0               0.0          0.0   \n",
       "1   19.524972  ...         0.0        0.0               0.0          0.0   \n",
       "2   22.139842  ...         0.0        0.0               0.0          0.0   \n",
       "\n",
       "   King Donovan Richard Carroll Jr. Elissa Dowling David Call Andrew Bujalski  \\\n",
       "0           0.0                 0.0            0.0        0.0             0.0   \n",
       "1           0.0                 0.0            0.0        0.0             0.0   \n",
       "2           0.0                 0.0            0.0        0.0             0.0   \n",
       "\n",
       "   Ricardo Garcia  \n",
       "0             0.0  \n",
       "1             0.0  \n",
       "2             0.0  \n",
       "\n",
       "[3 rows x 15820 columns]"
      ]
     },
     "execution_count": 10,
     "metadata": {},
     "output_type": "execute_result"
    }
   ],
   "source": [
    "# DF2 expands all the json data of cast and makes new columns for each one before deleting\n",
    "# the original cast column.\n",
    "df2 = feature_engineering(\"cast\", df, \"name\")\n",
    "df2 = df2.drop('cast', axis = 1)\n",
    "df2.head(3)"
   ]
  },
  {
   "cell_type": "code",
   "execution_count": 11,
   "metadata": {},
   "outputs": [
    {
     "name": "stdout",
     "output_type": "stream",
     "text": [
      "(4795, 23)\n"
     ]
    }
   ],
   "source": [
    "# DF3 expands all the json data of crew and makes new columns for each one before deleting\n",
    "# the original crew column.\n",
    "crew_name = {}\n",
    "\n",
    "# Director\n",
    "for item in df2['crew']:\n",
    "    crew = json.loads(item)\n",
    "    for it in crew:\n",
    "        if it['job'] == 'Director':\n",
    "            if it['name'] not in crew_name:\n",
    "                crew_name[it['name']] = 1\n",
    "            else:\n",
    "                crew_name[it['name']]+=1\n",
    "\n",
    "\n",
    "# Set the appear tims for Actors\n",
    "final_crew = {}\n",
    "index = 0\n",
    "for k,v in crew_name.items():\n",
    "    if v > 0:\n",
    "        final_crew[k] = index\n",
    "        index += 1\n",
    "# print(len(final_crew))\n",
    "\n",
    "np_crew = np.zeros((len(df2), len(final_crew)))\n",
    "row = 0\n",
    "for item in df2['crew']:\n",
    "    crew = json.loads(item)\n",
    "    for it in crew:\n",
    "        if it['job'] == 'Director':\n",
    "            if it['name'] in final_crew:\n",
    "                index = final_crew[it['name']]\n",
    "                np_crew[row][index] = 1\n",
    "    row += 1\n",
    "\n",
    "df_crew = pd.DataFrame(np_crew, columns = list(final_crew.keys()))\n",
    "            \n",
    "df3 = pd.concat([df2, df_crew], axis = 1)\n",
    "print(df.shape)\n",
    "#df3.head(3)"
   ]
  },
  {
   "cell_type": "code",
   "execution_count": 12,
   "metadata": {},
   "outputs": [
    {
     "data": {
      "text/html": [
       "<div>\n",
       "<style scoped>\n",
       "    .dataframe tbody tr th:only-of-type {\n",
       "        vertical-align: middle;\n",
       "    }\n",
       "\n",
       "    .dataframe tbody tr th {\n",
       "        vertical-align: top;\n",
       "    }\n",
       "\n",
       "    .dataframe thead th {\n",
       "        text-align: right;\n",
       "    }\n",
       "</style>\n",
       "<table border=\"1\" class=\"dataframe\">\n",
       "  <thead>\n",
       "    <tr style=\"text-align: right;\">\n",
       "      <th></th>\n",
       "      <th>winner</th>\n",
       "      <th>movie_title</th>\n",
       "      <th>budget</th>\n",
       "      <th>original_language</th>\n",
       "      <th>original_title</th>\n",
       "      <th>overview</th>\n",
       "      <th>popularity</th>\n",
       "      <th>release_date</th>\n",
       "      <th>revenue</th>\n",
       "      <th>runtime</th>\n",
       "      <th>...</th>\n",
       "      <th>bs</th>\n",
       "      <th>hr</th>\n",
       "      <th>sk</th>\n",
       "      <th>kk</th>\n",
       "      <th>ml</th>\n",
       "      <th>cy</th>\n",
       "      <th>ps</th>\n",
       "      <th>mn</th>\n",
       "      <th>xx</th>\n",
       "      <th>id</th>\n",
       "    </tr>\n",
       "  </thead>\n",
       "  <tbody>\n",
       "    <tr>\n",
       "      <th>0</th>\n",
       "      <td>1.0</td>\n",
       "      <td>lawrence of arabia</td>\n",
       "      <td>15000000.0</td>\n",
       "      <td>en</td>\n",
       "      <td>Lawrence of Arabia</td>\n",
       "      <td>An epic about British officer T.E. Lawrence's ...</td>\n",
       "      <td>41.286336</td>\n",
       "      <td>1962-12-10</td>\n",
       "      <td>69995385.0</td>\n",
       "      <td>216.0</td>\n",
       "      <td>...</td>\n",
       "      <td>0.0</td>\n",
       "      <td>0.0</td>\n",
       "      <td>0.0</td>\n",
       "      <td>0.0</td>\n",
       "      <td>0.0</td>\n",
       "      <td>0.0</td>\n",
       "      <td>0.0</td>\n",
       "      <td>0.0</td>\n",
       "      <td>0.0</td>\n",
       "      <td>0.0</td>\n",
       "    </tr>\n",
       "    <tr>\n",
       "      <th>1</th>\n",
       "      <td>1.0</td>\n",
       "      <td>the longest day</td>\n",
       "      <td>10000000.0</td>\n",
       "      <td>en</td>\n",
       "      <td>The Longest Day</td>\n",
       "      <td>The retelling of June 6, 1944, from the perspe...</td>\n",
       "      <td>19.524972</td>\n",
       "      <td>1962-09-25</td>\n",
       "      <td>50100000.0</td>\n",
       "      <td>178.0</td>\n",
       "      <td>...</td>\n",
       "      <td>0.0</td>\n",
       "      <td>0.0</td>\n",
       "      <td>0.0</td>\n",
       "      <td>0.0</td>\n",
       "      <td>0.0</td>\n",
       "      <td>0.0</td>\n",
       "      <td>0.0</td>\n",
       "      <td>0.0</td>\n",
       "      <td>0.0</td>\n",
       "      <td>0.0</td>\n",
       "    </tr>\n",
       "    <tr>\n",
       "      <th>2</th>\n",
       "      <td>1.0</td>\n",
       "      <td>to kill a mockingbird</td>\n",
       "      <td>2000000.0</td>\n",
       "      <td>en</td>\n",
       "      <td>To Kill a Mockingbird</td>\n",
       "      <td>In a small Alabama town in the 1930s, scrupulo...</td>\n",
       "      <td>22.139842</td>\n",
       "      <td>1962-12-25</td>\n",
       "      <td>13129846.0</td>\n",
       "      <td>129.0</td>\n",
       "      <td>...</td>\n",
       "      <td>0.0</td>\n",
       "      <td>0.0</td>\n",
       "      <td>0.0</td>\n",
       "      <td>0.0</td>\n",
       "      <td>0.0</td>\n",
       "      <td>0.0</td>\n",
       "      <td>0.0</td>\n",
       "      <td>0.0</td>\n",
       "      <td>0.0</td>\n",
       "      <td>0.0</td>\n",
       "    </tr>\n",
       "  </tbody>\n",
       "</table>\n",
       "<p>3 rows × 24487 columns</p>\n",
       "</div>"
      ],
      "text/plain": [
       "   winner            movie_title      budget original_language  \\\n",
       "0     1.0     lawrence of arabia  15000000.0                en   \n",
       "1     1.0        the longest day  10000000.0                en   \n",
       "2     1.0  to kill a mockingbird   2000000.0                en   \n",
       "\n",
       "          original_title                                           overview  \\\n",
       "0     Lawrence of Arabia  An epic about British officer T.E. Lawrence's ...   \n",
       "1        The Longest Day  The retelling of June 6, 1944, from the perspe...   \n",
       "2  To Kill a Mockingbird  In a small Alabama town in the 1930s, scrupulo...   \n",
       "\n",
       "   popularity release_date     revenue  runtime  ...   bs   hr   sk   kk   ml  \\\n",
       "0   41.286336   1962-12-10  69995385.0    216.0  ...  0.0  0.0  0.0  0.0  0.0   \n",
       "1   19.524972   1962-09-25  50100000.0    178.0  ...  0.0  0.0  0.0  0.0  0.0   \n",
       "2   22.139842   1962-12-25  13129846.0    129.0  ...  0.0  0.0  0.0  0.0  0.0   \n",
       "\n",
       "    cy   ps   mn   xx   id  \n",
       "0  0.0  0.0  0.0  0.0  0.0  \n",
       "1  0.0  0.0  0.0  0.0  0.0  \n",
       "2  0.0  0.0  0.0  0.0  0.0  \n",
       "\n",
       "[3 rows x 24487 columns]"
      ]
     },
     "execution_count": 12,
     "metadata": {},
     "output_type": "execute_result"
    }
   ],
   "source": [
    "# Doing the same concept but for a multitude of json filled column entries across the entire\n",
    "# DataFrame. Each evolution is morphed into the next until we get to DF8 in this part.\n",
    "df3=df3.drop(['crew'],axis=1)\n",
    "#genres\n",
    "df4 = feature_engineering(\"genres\", df3, \"name\")\n",
    "df4 = df4.drop(['genres'], axis = 1)\n",
    "#keywords\n",
    "df5 = feature_engineering('keywords', df4, 'name')\n",
    "df5 = df5.drop(['keywords'], axis = 1)\n",
    "#production_companies\n",
    "df6 = feature_engineering('production_companies',df5,'name')\n",
    "df6 = df6.drop(['production_companies'],axis=1)\n",
    "#production_countries\n",
    "df7 = feature_engineering('production_countries',df6,'name')\n",
    "df7 = df7.drop(['production_countries'],axis=1)\n",
    "#spoken_languages\n",
    "df8 = feature_engineering('spoken_languages',df7,'iso_639_1')\n",
    "df8 = df8.drop(['spoken_languages'],axis=1)\n",
    "\n",
    "# movieName, filmInfo, and award columns do not exist -- possible artifacts from team?\n",
    "\n",
    "df8.head(3)"
   ]
  },
  {
   "cell_type": "code",
   "execution_count": 13,
   "metadata": {},
   "outputs": [
    {
     "name": "stdout",
     "output_type": "stream",
     "text": [
      "(4795, 24479)\n"
     ]
    },
    {
     "data": {
      "text/html": [
       "<div>\n",
       "<style scoped>\n",
       "    .dataframe tbody tr th:only-of-type {\n",
       "        vertical-align: middle;\n",
       "    }\n",
       "\n",
       "    .dataframe tbody tr th {\n",
       "        vertical-align: top;\n",
       "    }\n",
       "\n",
       "    .dataframe thead th {\n",
       "        text-align: right;\n",
       "    }\n",
       "</style>\n",
       "<table border=\"1\" class=\"dataframe\">\n",
       "  <thead>\n",
       "    <tr style=\"text-align: right;\">\n",
       "      <th></th>\n",
       "      <th>winner</th>\n",
       "      <th>budget</th>\n",
       "      <th>popularity</th>\n",
       "      <th>revenue</th>\n",
       "      <th>runtime</th>\n",
       "      <th>vote_average</th>\n",
       "      <th>vote_count</th>\n",
       "      <th>Bechdel_Test</th>\n",
       "      <th>Peter O'Toole</th>\n",
       "      <th>Alec Guinness</th>\n",
       "      <th>...</th>\n",
       "      <th>bs</th>\n",
       "      <th>hr</th>\n",
       "      <th>sk</th>\n",
       "      <th>kk</th>\n",
       "      <th>ml</th>\n",
       "      <th>cy</th>\n",
       "      <th>ps</th>\n",
       "      <th>mn</th>\n",
       "      <th>xx</th>\n",
       "      <th>id</th>\n",
       "    </tr>\n",
       "  </thead>\n",
       "  <tbody>\n",
       "    <tr>\n",
       "      <th>0</th>\n",
       "      <td>1.0</td>\n",
       "      <td>15000000.0</td>\n",
       "      <td>41.286336</td>\n",
       "      <td>69995385.0</td>\n",
       "      <td>216.0</td>\n",
       "      <td>7.8</td>\n",
       "      <td>851.0</td>\n",
       "      <td>1.0</td>\n",
       "      <td>1.0</td>\n",
       "      <td>1.0</td>\n",
       "      <td>...</td>\n",
       "      <td>0.0</td>\n",
       "      <td>0.0</td>\n",
       "      <td>0.0</td>\n",
       "      <td>0.0</td>\n",
       "      <td>0.0</td>\n",
       "      <td>0.0</td>\n",
       "      <td>0.0</td>\n",
       "      <td>0.0</td>\n",
       "      <td>0.0</td>\n",
       "      <td>0.0</td>\n",
       "    </tr>\n",
       "    <tr>\n",
       "      <th>1</th>\n",
       "      <td>1.0</td>\n",
       "      <td>10000000.0</td>\n",
       "      <td>19.524972</td>\n",
       "      <td>50100000.0</td>\n",
       "      <td>178.0</td>\n",
       "      <td>7.2</td>\n",
       "      <td>234.0</td>\n",
       "      <td>0.0</td>\n",
       "      <td>0.0</td>\n",
       "      <td>0.0</td>\n",
       "      <td>...</td>\n",
       "      <td>0.0</td>\n",
       "      <td>0.0</td>\n",
       "      <td>0.0</td>\n",
       "      <td>0.0</td>\n",
       "      <td>0.0</td>\n",
       "      <td>0.0</td>\n",
       "      <td>0.0</td>\n",
       "      <td>0.0</td>\n",
       "      <td>0.0</td>\n",
       "      <td>0.0</td>\n",
       "    </tr>\n",
       "    <tr>\n",
       "      <th>2</th>\n",
       "      <td>1.0</td>\n",
       "      <td>2000000.0</td>\n",
       "      <td>22.139842</td>\n",
       "      <td>13129846.0</td>\n",
       "      <td>129.0</td>\n",
       "      <td>8.0</td>\n",
       "      <td>657.0</td>\n",
       "      <td>1.0</td>\n",
       "      <td>0.0</td>\n",
       "      <td>0.0</td>\n",
       "      <td>...</td>\n",
       "      <td>0.0</td>\n",
       "      <td>0.0</td>\n",
       "      <td>0.0</td>\n",
       "      <td>0.0</td>\n",
       "      <td>0.0</td>\n",
       "      <td>0.0</td>\n",
       "      <td>0.0</td>\n",
       "      <td>0.0</td>\n",
       "      <td>0.0</td>\n",
       "      <td>0.0</td>\n",
       "    </tr>\n",
       "  </tbody>\n",
       "</table>\n",
       "<p>3 rows × 24479 columns</p>\n",
       "</div>"
      ],
      "text/plain": [
       "   winner      budget  popularity     revenue  runtime  vote_average  \\\n",
       "0     1.0  15000000.0   41.286336  69995385.0    216.0           7.8   \n",
       "1     1.0  10000000.0   19.524972  50100000.0    178.0           7.2   \n",
       "2     1.0   2000000.0   22.139842  13129846.0    129.0           8.0   \n",
       "\n",
       "   vote_count  Bechdel_Test  Peter O'Toole  Alec Guinness  ...   bs   hr   sk  \\\n",
       "0       851.0           1.0            1.0            1.0  ...  0.0  0.0  0.0   \n",
       "1       234.0           0.0            0.0            0.0  ...  0.0  0.0  0.0   \n",
       "2       657.0           1.0            0.0            0.0  ...  0.0  0.0  0.0   \n",
       "\n",
       "    kk   ml   cy   ps   mn   xx   id  \n",
       "0  0.0  0.0  0.0  0.0  0.0  0.0  0.0  \n",
       "1  0.0  0.0  0.0  0.0  0.0  0.0  0.0  \n",
       "2  0.0  0.0  0.0  0.0  0.0  0.0  0.0  \n",
       "\n",
       "[3 rows x 24479 columns]"
      ]
     },
     "execution_count": 13,
     "metadata": {},
     "output_type": "execute_result"
    }
   ],
   "source": [
    "# DF_CLEAN is created from DF8 sans the below columns. It will then be encoded into OneHot,\n",
    "# and then hopefully fit into training sets to create models.\n",
    "df_clean = df8.drop([\"movie_title\", \"original_title\", \"overview\", \"tagline\", \"title\", \"original_language\",\n",
    "                    \"status\", \"release_date\"], axis=1)\n",
    "\n",
    "print(df_clean.shape)\n",
    "df_clean.head(3)"
   ]
  },
  {
   "cell_type": "code",
   "execution_count": 14,
   "metadata": {},
   "outputs": [
    {
     "name": "stdout",
     "output_type": "stream",
     "text": [
      "Number of null values in entire DF: 0\n",
      "\n"
     ]
    }
   ],
   "source": [
    "# Debugging for 2 cells below ValueError\n",
    "# Ended up being easier to just drop the two problem rows containing NaNs\n",
    "df_clean = df_clean.dropna(axis='index', how='any')\n",
    "\n",
    "print(f\"Number of null values in entire DF: {df_clean.isnull().sum().sum()}\\n\")\n",
    "\n",
    "# If non-float types exist they'll be printed\n",
    "for dtype in df_clean.dtypes:\n",
    "    if dtype != float:\n",
    "        print(dtype)"
   ]
  },
  {
   "cell_type": "code",
   "execution_count": 15,
   "metadata": {},
   "outputs": [],
   "source": [
    "#!!!!!!!!!!!!!!!!!!!!!!!!!!!!!!!!!!!!!!!!!!!!!!!!!!!!!!!!!!!!!!!!!!\n",
    "#?                      Big Brain Stuff Ahead                    ?#\n",
    "#!!!!!!!!!!!!!!!!!!!!!!!!!!!!!!!!!!!!!!!!!!!!!!!!!!!!!!!!!!!!!!!!!!\n",
    "\n",
    "# Model Training --- I replaced winner with Bechdel_Test\n",
    "X = df_clean[df_clean.columns.difference(['Bechdel_Test'])]\n",
    "# X = StandardScaler().fit_transform(X)\n",
    "y = df_clean['winner']"
   ]
  },
  {
   "cell_type": "code",
   "execution_count": 16,
   "metadata": {},
   "outputs": [],
   "source": [
    "from sklearn.model_selection import train_test_split\n",
    "# test_size: what proportion of original data is used for test set\n",
    "X_train, X_test, y_train, y_test = train_test_split(X, y, test_size=0.25, train_size=0.75, random_state=90001, shuffle=True, stratify=y)"
   ]
  },
  {
   "cell_type": "code",
   "execution_count": 17,
   "metadata": {},
   "outputs": [],
   "source": [
    "from sklearn.preprocessing import StandardScaler\n",
    "\n",
    "scaler = StandardScaler()\n",
    "\n",
    "# Fit on training set only.\n",
    "scaler.fit(X_train)\n",
    "\n",
    "# Apply transform to both the training set and the test set.\n",
    "X_train = scaler.transform(X_train)\n",
    "X_test = scaler.transform(X_test)"
   ]
  },
  {
   "cell_type": "code",
   "execution_count": 18,
   "metadata": {},
   "outputs": [],
   "source": [
    "from sklearn.decomposition import PCA\n",
    "pca = PCA(0.95)\n",
    "fit = pca.fit(X_train)\n",
    "\n",
    "X_train = pca.transform(X_train)\n",
    "X_test = pca.transform(X_test)"
   ]
  },
  {
   "cell_type": "code",
   "execution_count": 19,
   "metadata": {},
   "outputs": [
    {
     "name": "stderr",
     "output_type": "stream",
     "text": [
      "[Parallel(n_jobs=-1)]: Using backend ThreadingBackend with 8 concurrent workers.\n"
     ]
    },
    {
     "name": "stdout",
     "output_type": "stream",
     "text": [
      "convergence after 2165 epochs took 221 seconds\n"
     ]
    },
    {
     "name": "stderr",
     "output_type": "stream",
     "text": [
      "[Parallel(n_jobs=-1)]: Done   1 tasks      | elapsed:  3.7min\n",
      "[Parallel(n_jobs=-1)]: Done   1 out of   1 | elapsed:  3.7min finished\n"
     ]
    },
    {
     "data": {
      "text/plain": [
       "LogisticRegression(C=1.0, class_weight=None, dual=False, fit_intercept=True,\n",
       "                   intercept_scaling=1, l1_ratio=0, max_iter=5000,\n",
       "                   multi_class='ovr', n_jobs=-1, penalty='elasticnet',\n",
       "                   random_state=288, solver='saga', tol=0.0001, verbose=10,\n",
       "                   warm_start=False)"
      ]
     },
     "execution_count": 19,
     "metadata": {},
     "output_type": "execute_result"
    }
   ],
   "source": [
    "from sklearn.linear_model import LogisticRegression\n",
    "\n",
    "# all parameters not specified are set to their defaults\n",
    "logisticRegr = LogisticRegression(penalty='elasticnet', multi_class='ovr', n_jobs=-1, l1_ratio=0, random_state=288, solver='saga', max_iter=5000, verbose=10)\n",
    "logisticRegr.fit(X_train, y_train)"
   ]
  },
  {
   "cell_type": "code",
   "execution_count": 20,
   "metadata": {},
   "outputs": [
    {
     "name": "stdout",
     "output_type": "stream",
     "text": [
      "[0. 0. 0. ... 0. 0. 0.]\n",
      "Int64Index([1178, 4399, 3445, 1763,  240, 3532, 1846, 1765, 2997, 3588,\n",
      "            ...\n",
      "             657, 3435, 4154,  229, 1136, 4061, 4035,   71, 1966, 1612],\n",
      "           dtype='int64', length=1199)\n"
     ]
    }
   ],
   "source": [
    "# Predict for One Observation\n",
    "predicted = logisticRegr.predict(X_test)\n",
    "print(logisticRegr.predict(X_test))\n",
    "print(y_test.index)"
   ]
  },
  {
   "cell_type": "code",
   "execution_count": 21,
   "metadata": {},
   "outputs": [
    {
     "data": {
      "text/plain": [
       "1.0"
      ]
     },
     "execution_count": 21,
     "metadata": {},
     "output_type": "execute_result"
    }
   ],
   "source": [
    "logisticRegr.score(X_train, y_train)"
   ]
  },
  {
   "cell_type": "code",
   "execution_count": 22,
   "metadata": {},
   "outputs": [
    {
     "data": {
      "text/plain": [
       "0.8990825688073395"
      ]
     },
     "execution_count": 22,
     "metadata": {},
     "output_type": "execute_result"
    }
   ],
   "source": [
    "logisticRegr.score(X_test, y_test)"
   ]
  },
  {
   "cell_type": "code",
   "execution_count": 23,
   "metadata": {},
   "outputs": [
    {
     "name": "stdout",
     "output_type": "stream",
     "text": [
      "Total - Y_Test: 1199\n",
      "Total - Predicted: 1199\n",
      "\n",
      "True Negatives: 1042\n",
      "False Positives: 105\n",
      "False Negatives: 16\n",
      "True Positives: 36\n",
      "\n",
      "Sensetivity / True Positive Rate: 0.6923076923076923\n",
      "\n",
      "Specificity / True Negative Rate: 0.9084568439407149\n",
      "\n",
      "Precision / Positive Predictive Value: 0.2553191489361702\n",
      "\n",
      "Negative Predictive Value: 0.9848771266540642\n",
      "\n",
      "Miss Rate / False Negative Rate: 0.3076923076923077\n",
      "\n",
      "Fall-Out / False Positive Rate: 0.09154315605928509\n",
      "\n",
      "False Discovery Rate: 0.7446808510638298\n",
      "\n",
      "False Omission Rate: 0.015122873345935728\n",
      "\n",
      "Threat Score / Critical Success Index: 0.22929936305732485\n",
      "\n",
      "Accuracy: 0.8990825688073395\n",
      "\n",
      "F1 Score / Harmonic Mean of Precision(PPV) and Sensetivity(TPR): 0.37305699481865284\n",
      "\n",
      "Matthews Correlation Coefficient: 0.37987024641785494\n",
      "\n",
      "Informedness / Bookmaker Informedness: 0.6007645362484073\n",
      "\n",
      "Markedness: 0.2401962755902345\n",
      "\n"
     ]
    }
   ],
   "source": [
    "from sklearn.metrics import confusion_matrix\n",
    "import math\n",
    "tn, fp, fn, tp = confusion_matrix(y_test, predicted).ravel()\n",
    "\n",
    "print(f\"Total - Y_Test: {len(y_test)}\")\n",
    "print(f\"Total - Predicted: {len(predicted)}\\n\")\n",
    "\n",
    "print(f\"True Negatives: {tn}\")\n",
    "print(f\"False Positives: {fp}\")\n",
    "print(f\"False Negatives: {fn}\")\n",
    "print(f\"True Positives: {tp}\\n\")\n",
    "\n",
    "sensitivity = tp/(tp+fn)\n",
    "print(f\"Sensetivity / True Positive Rate: {sensitivity}\\n\")\n",
    "\n",
    "specificity = tn/(tn+fp)\n",
    "print(f\"Specificity / True Negative Rate: {specificity}\\n\")\n",
    "\n",
    "precision = tp/(tp+fp)\n",
    "print(f\"Precision / Positive Predictive Value: {precision}\\n\")\n",
    "\n",
    "npv = tn/(tn+fn)\n",
    "print(f\"Negative Predictive Value: {npv}\\n\")\n",
    "\n",
    "miss_rate = fn/(fn+tp)\n",
    "print(f\"Miss Rate / False Negative Rate: {miss_rate}\\n\")\n",
    "\n",
    "fall_out = fp/(fp+tn)\n",
    "print(f\"Fall-Out / False Positive Rate: {fall_out}\\n\")\n",
    "\n",
    "fdr = fp/(fp+tp)\n",
    "print(f\"False Discovery Rate: {fdr}\\n\")\n",
    "\n",
    "fOMr = fn/(fn+tn)\n",
    "print(f\"False Omission Rate: {fOMr}\\n\")\n",
    "\n",
    "threat_score = tp/(tp+fn+fp)\n",
    "print(f\"Threat Score / Critical Success Index: {threat_score}\\n\")\n",
    "\n",
    "accuracy = (tp+tn)/(tp+tn+fp+fn)\n",
    "print(f\"Accuracy: {accuracy}\\n\")\n",
    "\n",
    "f1_score = (2*tp)/((2*tp)+fp+fn)\n",
    "print(f\"F1 Score / Harmonic Mean of Precision(PPV) and Sensetivity(TPR): {f1_score}\\n\")\n",
    "\n",
    "mcc = ((tp*tn)-(fp*fn))/math.sqrt((tp+fp)*(tp+fn)*(tn+fp)*(tn+fn))\n",
    "print(f\"Matthews Correlation Coefficient: {mcc}\\n\")\n",
    "\n",
    "informedness = (sensitivity+specificity-1)\n",
    "print(f\"Informedness / Bookmaker Informedness: {informedness}\\n\")\n",
    "\n",
    "markedness = (precision+npv-1)\n",
    "print(f\"Markedness: {markedness}\\n\")"
   ]
  },
  {
   "cell_type": "code",
   "execution_count": 24,
   "metadata": {},
   "outputs": [
    {
     "name": "stderr",
     "output_type": "stream",
     "text": [
      "[Parallel(n_jobs=-1)]: Using backend ThreadingBackend with 8 concurrent workers.\n"
     ]
    },
    {
     "name": "stdout",
     "output_type": "stream",
     "text": [
      "convergence after 149 epochs took 153 seconds\n"
     ]
    },
    {
     "name": "stderr",
     "output_type": "stream",
     "text": [
      "[Parallel(n_jobs=-1)]: Done   1 tasks      | elapsed:  2.5min\n",
      "[Parallel(n_jobs=-1)]: Done   1 out of   1 | elapsed:  2.5min finished\n",
      "[Parallel(n_jobs=-1)]: Using backend ThreadingBackend with 8 concurrent workers.\n"
     ]
    },
    {
     "name": "stdout",
     "output_type": "stream",
     "text": [
      "convergence after 152 epochs took 155 seconds\n"
     ]
    },
    {
     "name": "stderr",
     "output_type": "stream",
     "text": [
      "[Parallel(n_jobs=-1)]: Done   1 tasks      | elapsed:  2.6min\n",
      "[Parallel(n_jobs=-1)]: Done   1 out of   1 | elapsed:  2.6min finished\n",
      "[Parallel(n_jobs=-1)]: Using backend ThreadingBackend with 8 concurrent workers.\n"
     ]
    },
    {
     "name": "stdout",
     "output_type": "stream",
     "text": [
      "convergence after 292 epochs took 300 seconds\n"
     ]
    },
    {
     "name": "stderr",
     "output_type": "stream",
     "text": [
      "[Parallel(n_jobs=-1)]: Done   1 tasks      | elapsed:  5.0min\n",
      "[Parallel(n_jobs=-1)]: Done   1 out of   1 | elapsed:  5.0min finished\n",
      "[Parallel(n_jobs=-1)]: Using backend ThreadingBackend with 8 concurrent workers.\n"
     ]
    },
    {
     "name": "stdout",
     "output_type": "stream",
     "text": [
      "convergence after 275 epochs took 282 seconds\n"
     ]
    },
    {
     "name": "stderr",
     "output_type": "stream",
     "text": [
      "[Parallel(n_jobs=-1)]: Done   1 tasks      | elapsed:  4.7min\n",
      "[Parallel(n_jobs=-1)]: Done   1 out of   1 | elapsed:  4.7min finished\n",
      "[Parallel(n_jobs=-1)]: Using backend ThreadingBackend with 8 concurrent workers.\n"
     ]
    },
    {
     "name": "stdout",
     "output_type": "stream",
     "text": [
      "convergence after 281 epochs took 288 seconds\n"
     ]
    },
    {
     "name": "stderr",
     "output_type": "stream",
     "text": [
      "[Parallel(n_jobs=-1)]: Done   1 tasks      | elapsed:  4.8min\n",
      "[Parallel(n_jobs=-1)]: Done   1 out of   1 | elapsed:  4.8min finished\n",
      "[Parallel(n_jobs=-1)]: Using backend ThreadingBackend with 8 concurrent workers.\n"
     ]
    },
    {
     "name": "stdout",
     "output_type": "stream",
     "text": [
      "convergence after 283 epochs took 289 seconds\n"
     ]
    },
    {
     "name": "stderr",
     "output_type": "stream",
     "text": [
      "[Parallel(n_jobs=-1)]: Done   1 tasks      | elapsed:  4.8min\n",
      "[Parallel(n_jobs=-1)]: Done   1 out of   1 | elapsed:  4.8min finished\n",
      "[Parallel(n_jobs=-1)]: Using backend ThreadingBackend with 8 concurrent workers.\n"
     ]
    },
    {
     "name": "stdout",
     "output_type": "stream",
     "text": [
      "convergence after 295 epochs took 300 seconds\n"
     ]
    },
    {
     "name": "stderr",
     "output_type": "stream",
     "text": [
      "[Parallel(n_jobs=-1)]: Done   1 tasks      | elapsed:  5.0min\n",
      "[Parallel(n_jobs=-1)]: Done   1 out of   1 | elapsed:  5.0min finished\n",
      "[Parallel(n_jobs=-1)]: Using backend ThreadingBackend with 8 concurrent workers.\n"
     ]
    },
    {
     "name": "stdout",
     "output_type": "stream",
     "text": [
      "convergence after 155 epochs took 156 seconds\n"
     ]
    },
    {
     "name": "stderr",
     "output_type": "stream",
     "text": [
      "[Parallel(n_jobs=-1)]: Done   1 tasks      | elapsed:  2.6min\n",
      "[Parallel(n_jobs=-1)]: Done   1 out of   1 | elapsed:  2.6min finished\n",
      "[Parallel(n_jobs=-1)]: Using backend ThreadingBackend with 8 concurrent workers.\n"
     ]
    },
    {
     "name": "stdout",
     "output_type": "stream",
     "text": [
      "convergence after 282 epochs took 287 seconds\n"
     ]
    },
    {
     "name": "stderr",
     "output_type": "stream",
     "text": [
      "[Parallel(n_jobs=-1)]: Done   1 tasks      | elapsed:  4.8min\n",
      "[Parallel(n_jobs=-1)]: Done   1 out of   1 | elapsed:  4.8min finished\n",
      "[Parallel(n_jobs=-1)]: Using backend ThreadingBackend with 8 concurrent workers.\n"
     ]
    },
    {
     "name": "stdout",
     "output_type": "stream",
     "text": [
      "convergence after 297 epochs took 309 seconds\n",
      "\n",
      "\n",
      "3-Fold Cross Validation Mean Score: 0.9016666666666667\n",
      "\n",
      "\n"
     ]
    },
    {
     "name": "stderr",
     "output_type": "stream",
     "text": [
      "[Parallel(n_jobs=-1)]: Done   1 tasks      | elapsed:  5.2min\n",
      "[Parallel(n_jobs=-1)]: Done   1 out of   1 | elapsed:  5.2min finished\n"
     ]
    }
   ],
   "source": [
    "# 3-fold Cross validation\n",
    "\n",
    "#from sklearn.model_selection import StratifiedKFold\n",
    "#skf = StratifiedKFold()\n",
    "\n",
    "from sklearn.model_selection import StratifiedShuffleSplit\n",
    "sss = StratifiedShuffleSplit(random_state=55)\n",
    "\n",
    "sumAccuracy = []\n",
    "#for train,test in skf.split(X,y):\n",
    "for train,test in sss.split(X,y):\n",
    "    df_train = df_clean.iloc[train]\n",
    "    df_test = df_clean.iloc[test]\n",
    "    train_X = df_train[df_clean.columns.difference(['Bechdel_Test'])]\n",
    "    train_y = df_train['winner']\n",
    "    test_X = df_test[df_clean.columns.difference(['Bechdel_Test'])]\n",
    "    test_y = df_test['winner']\n",
    "    logisticRegr.fit(train_X, train_y)\n",
    "    sumAccuracy.append(logisticRegr.score(test_X, test_y))\n",
    "avg = np.mean(sumAccuracy)\n",
    "print(f\"\\n\\n3-Fold Cross Validation Mean Score: {avg}\\n\\n\")"
   ]
  },
  {
   "cell_type": "code",
   "execution_count": null,
   "metadata": {},
   "outputs": [],
   "source": []
  }
 ],
 "metadata": {
  "kernelspec": {
   "display_name": "Python 3",
   "language": "python",
   "name": "python3"
  },
  "language_info": {
   "codemirror_mode": {
    "name": "ipython",
    "version": 3
   },
   "file_extension": ".py",
   "mimetype": "text/x-python",
   "name": "python",
   "nbconvert_exporter": "python",
   "pygments_lexer": "ipython3",
   "version": "3.7.1"
  }
 },
 "nbformat": 4,
 "nbformat_minor": 2
}
