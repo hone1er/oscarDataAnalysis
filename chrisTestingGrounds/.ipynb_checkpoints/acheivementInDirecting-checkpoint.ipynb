{
 "cells": [
  {
   "cell_type": "code",
   "execution_count": 1,
   "metadata": {},
   "outputs": [],
   "source": [
    "import io, time, json\n",
    "import requests\n",
    "from bs4 import BeautifulSoup\n",
    "import matplotlib.pyplot as plt\n",
    "import seaborn as sns\n",
    "import json\n",
    "import sklearn\n",
    "import warnings; warnings.simplefilter('ignore')\n",
    "%matplotlib inline"
   ]
  },
  {
   "cell_type": "code",
   "execution_count": 2,
   "metadata": {},
   "outputs": [],
   "source": [
    "# Grabbing the nominees to get latest years data\n",
    "def retrieve_html(url):\n",
    "    \"\"\"\n",
    "    Return the raw HTML at the specified URL.\n",
    "\n",
    "    Args:\n",
    "        url (string): \n",
    "\n",
    "    Returns:\n",
    "        result: dict, movie name as key, movie information as value\n",
    "    \"\"\"\n",
    "    # remember to use browser header here, or cannot retrieve full data from the website\n",
    "    headers = {\n",
    "        'User-Agent': 'Mozilla/5.0 (Macintosh; Intel Mac OS X 10_11_5) AppleWebKit/537.36 (KHTML, like Gecko) Chrome/50.0.2661.102 Safari/537.36'}\n",
    "    response = requests.get(url, headers = headers)\n",
    "    html = response.content\n",
    "    soup = BeautifulSoup(html,'lxml')\n",
    "\n",
    "    result = {}\n",
    "    for item in soup.find_all('div', {'class':'result-subgroup subgroup-awardcategory-chron'}):\n",
    "        try:\n",
    "            award_title = item.find('div',{'class':'result-subgroup-title'}).find('a',{'class':'nominations-link'}).contents[0]\n",
    "            if award_title == 'DIRECTING':\n",
    "                sub_groups = item.find_all('div',{'class':'result-details awards-result-actingorsimilar'})\n",
    "                for sub in sub_groups:\n",
    "                    sub_result = {}\n",
    "                    film_title = sub.find('div',{'class':'awards-result-film-title'}).find('a',{'class':'nominations-link'}).contents[0]\n",
    "                    is_winner = 1\n",
    "                    director = sub.find('div',{'class':'awards-result-nominationstatement'}).find('a',{'class':'nominations-link'}).contents[0]           \n",
    "                    sub_result['film_title'] = film_title\n",
    "                    sub_result['is_winner'] = is_winner\n",
    "                    sub_result['director'] = director\n",
    "                    result[film_title] = sub_result\n",
    "        except Exception:\n",
    "            pass\n",
    "    return result"
   ]
  },
  {
   "cell_type": "code",
   "execution_count": 3,
   "metadata": {},
   "outputs": [],
   "source": [
    "# data of year 2016\n",
    "best_2016 = retrieve_html('http://awardsdatabase.oscars.org/Search/GetResults?query=%7B%22AwardShowFrom%22:89,%22Sort%22:%223-Award%20Category-Chron%22,%22Search%22:%22Basic%22%7D')\n",
    "\n",
    "# data of year 2017\n",
    "best_2017 = retrieve_html('http://awardsdatabase.oscars.org/Search/GetResults?query=%7B%22AwardShowFrom%22:90,%22Sort%22:%223-Award%20Category-Chron%22,%22Search%22:%22Basic%22%7D')\n",
    "\n",
    "# data of year 2018\n",
    "best_2018 = retrieve_html('http://awardsdatabase.oscars.org/Search/GetResults?query=%7B%22AwardShowFrom%22:91,%22Sort%22:%223-Award%20Category-Chron%22,%22Search%22:%22Basic%22%7D')"
   ]
  },
  {
   "cell_type": "code",
   "execution_count": 4,
   "metadata": {},
   "outputs": [],
   "source": [
    "#best_2016"
   ]
  },
  {
   "cell_type": "code",
   "execution_count": 5,
   "metadata": {},
   "outputs": [],
   "source": [
    "# Load Data\n",
    "import numpy as np\n",
    "import pandas as pd\n",
    "# read from award\n",
    "df_awards = pd.read_csv('database.csv', skiprows = 1, names=['year','ceremony','award','winner','name','film'])\n",
    "df_movies = pd.read_csv('movies.csv')\n",
    "df_credits = pd.read_csv('credits.csv')"
   ]
  },
  {
   "cell_type": "code",
   "execution_count": 6,
   "metadata": {},
   "outputs": [],
   "source": [
    "#View data\n",
    "#print(df_awards.head(10))\n",
    "#print(\"\")\n",
    "#print(df_movies.head(10))\n",
    "#print(\"\")\n",
    "#print(df_credits.head())"
   ]
  },
  {
   "cell_type": "code",
   "execution_count": 7,
   "metadata": {
    "scrolled": true
   },
   "outputs": [],
   "source": [
    "# append the data we scrapped to the df_awards\n",
    "data=[]\n",
    "for k,v in best_2016.items():\n",
    "    row = []\n",
    "    row.append(['2016', 89, 'Directing', v['is_winner'], v['director'], v['film_title']])\n",
    "    data.append(row[0])\n",
    "\n",
    "for k,v in best_2017.items():\n",
    "    row = []\n",
    "    row.append(['2017', 90, 'Directing', v['is_winner'], v['director'], v['film_title']])\n",
    "    data.append(row[0])\n",
    "\n",
    "for k,v in best_2018.items():\n",
    "    row = []\n",
    "    row.append(['2018', 91, 'Directing', v['is_winner'], v['director'], v['film_title']])\n",
    "    data.append(row[0])\n",
    "    \n",
    "# pass the column name to the columns!!! Or there will be a runtime error\n",
    "df_awards=df_awards.append(pd.DataFrame(data,columns=['year','ceremony','award','winner','name','film']),ignore_index=True)\n",
    "\n",
    "#df_awards"
   ]
  },
  {
   "cell_type": "code",
   "execution_count": 8,
   "metadata": {},
   "outputs": [],
   "source": [
    "# Data Manipulation\n",
    "#Joining the credits and movies dataframes\n",
    "if 'title' in df_credits.columns: \n",
    "  df_credits = df_credits.drop('title',axis=1) \n",
    "df_credits_movies = df_credits.set_index('movie_id').join(df_movies.set_index('id'))"
   ]
  },
  {
   "cell_type": "code",
   "execution_count": 9,
   "metadata": {},
   "outputs": [],
   "source": [
    "#df_credits_movies.dtypes\n",
    "# Reset the data types and get the earliest date of release_date\n",
    "df_credits_movies['release_date'] = pd.to_datetime(df_credits_movies['release_date'])\n",
    "#get the earliest release date from the dataset\n",
    "min_year = min(df_credits_movies['release_date']) #1916-09-04\n",
    "max_year = max(df_credits_movies['release_date']) #2017-02-03"
   ]
  },
  {
   "cell_type": "code",
   "execution_count": 10,
   "metadata": {},
   "outputs": [],
   "source": [
    "# Select movies that are in Directing awards category -> df_picture_awards\n",
    "#join df_credits_movies and df_awards by movie name (df_credits_movies.title = df_awards.movieName)\n",
    "#before that, extract Directing from the df_awards\n",
    "df_picture_awards = df_awards.loc[df_awards['award'].isin(['Directing'])]\n",
    "df_picture_awards.reset_index(drop = True, inplace = True)\n",
    "df_credits_movies = df_credits_movies.loc[df_credits_movies['status'].isin(['Released'])]\n"
   ]
  },
  {
   "cell_type": "code",
   "execution_count": 11,
   "metadata": {},
   "outputs": [],
   "source": [
    "# Replace all the null value in ‘winner’ column with 1\n",
    "# df_picture_awards['winner'].isnull().sum()\n",
    "df_picture_awards['winner'].fillna(1,inplace = True)\n"
   ]
  },
  {
   "cell_type": "code",
   "execution_count": 12,
   "metadata": {},
   "outputs": [
    {
     "name": "stdout",
     "output_type": "stream",
     "text": [
      "   year  ceremony      award  winner              name                   film  \\\n",
      "0  1929         2  Directing     1.0  Lionel Barrymore               Madame X   \n",
      "1  1929         2  Directing     1.0    Harry Beaumont    The Broadway Melody   \n",
      "2  1929         2  Directing     1.0   Irving Cummings         In Old Arizona   \n",
      "3  1929         2  Directing     1.0       Frank Lloyd        The Divine Lady   \n",
      "4  1929         2  Directing     1.0       Frank Lloyd  Drag; and Weary River   \n",
      "\n",
      "      director_name  \n",
      "0  lionel barrymore  \n",
      "1    harry beaumont  \n",
      "2   irving cummings  \n",
      "3       frank lloyd  \n",
      "4       frank lloyd  \n"
     ]
    }
   ],
   "source": [
    "# join df_picture_awards with df_credits_movies\n",
    "#cleaning names/punctuation\n",
    "import re\n",
    "directorName = [re.sub(r'[^\\w\\s]','',x) for x in df_picture_awards['name'].str.lower().str.strip().values]\n",
    "title = [re.sub(r'[^\\w\\s]','',x) for x in df_credits_movies['title'].str.lower().str.strip().values]\n",
    "#then, change the title in the movie to lower case\n",
    "df_picture_awards.loc[:,'director_name'] = directorName #change the string to lower case\n",
    "df_credits_movies.loc[:,'director_name']= title\n",
    "# check the dataframe, we can see the string in director_name now is valid\n",
    "print(df_picture_awards.head())"
   ]
  },
  {
   "cell_type": "code",
   "execution_count": 13,
   "metadata": {},
   "outputs": [],
   "source": [
    "# join the two tables, merge the data\n",
    "df = df_picture_awards.merge(df_credits_movies, left_on='director_name', right_on='director_name', how='right')\n",
    "df = df.reset_index(drop=True)\n",
    "#drop the columns from award table\n",
    "df.drop('homepage',axis = 1, inplace = True)\n",
    "df.drop('year',axis = 1, inplace = True)\n",
    "df.drop('award',axis = 1, inplace = True)\n",
    "df.drop('name',axis = 1, inplace = True)\n",
    "df.drop('film',axis = 1, inplace = True)\n",
    "df.drop('ceremony',axis = 1, inplace = True)\n",
    "df['winner'].fillna(0,inplace=True) #fill NA with 0"
   ]
  },
  {
   "cell_type": "code",
   "execution_count": 14,
   "metadata": {},
   "outputs": [
    {
     "data": {
      "text/plain": [
       "<matplotlib.axes._subplots.AxesSubplot at 0x201cd197710>"
      ]
     },
     "execution_count": 14,
     "metadata": {},
     "output_type": "execute_result"
    },
    {
     "data": {
      "image/png": "[encoded data removed]",
      "text/plain": [
       "<Figure size 432x288 with 1 Axes>"
      ]
     },
     "metadata": {
      "needs_background": "light"
     },
     "output_type": "display_data"
    }
   ],
   "source": [
    "# We will choose the under-sampling by sampling from the 0-labeled data. \n",
    "# We need to first get a subset of nominated data, then sample from the non-nominated data, \n",
    "# and finally append the sampled data to the subset of nominated data.\n",
    "sns.countplot(x='winner', data = df)\n"
   ]
  },
  {
   "cell_type": "code",
   "execution_count": 15,
   "metadata": {},
   "outputs": [
    {
     "name": "stdout",
     "output_type": "stream",
     "text": [
      "4590\n",
      "205\n"
     ]
    }
   ],
   "source": [
    "#Get the number of 0 labeled data, and the number of 1 labeled data\n",
    "print(len(df.loc[df['winner'] == 0])) #4590\n",
    "print(len(df.loc[df['winner'] == 1])) #205"
   ]
  },
  {
   "cell_type": "code",
   "execution_count": 16,
   "metadata": {},
   "outputs": [],
   "source": [
    "#balance the data\n",
    "df_subset_0 = df.loc[df['winner'] == 0]\n",
    "df_subset_1 = df.loc[df['winner'] == 1]\n",
    "\n",
    "df_subset_0.drop('winner',axis=1,inplace=True)\n",
    "df_subset_1.drop('winner',axis=1,inplace=True)\n",
    "\n",
    "#sample with replacement\n",
    "df_subset_0 = df_subset_0.sample(400) \n",
    "df_subset = pd.concat([df_subset_0,df_subset_1],ignore_index = True)\n",
    "df_new = df_subset.merge(df_picture_awards, left_on = 'director_name', right_on = 'director_name', how = 'left')\n",
    "df_new = df_new.fillna(0)"
   ]
  },
  {
   "cell_type": "code",
   "execution_count": 17,
   "metadata": {},
   "outputs": [
    {
     "name": "stdout",
     "output_type": "stream",
     "text": [
      "605\n"
     ]
    }
   ],
   "source": [
    "print(len(df_new))"
   ]
  },
  {
   "cell_type": "code",
   "execution_count": 18,
   "metadata": {},
   "outputs": [
    {
     "data": {
      "text/plain": [
       "<matplotlib.axes._subplots.AxesSubplot at 0x201cd29b160>"
      ]
     },
     "execution_count": 18,
     "metadata": {},
     "output_type": "execute_result"
    },
    {
     "data": {
      "image/png": "[encoded data removed]",
      "text/plain": [
       "<Figure size 432x288 with 1 Axes>"
      ]
     },
     "metadata": {
      "needs_background": "light"
     },
     "output_type": "display_data"
    }
   ],
   "source": [
    "sns.countplot(x='winner', data = df_new)"
   ]
  },
  {
   "cell_type": "code",
   "execution_count": 19,
   "metadata": {},
   "outputs": [
    {
     "data": {
      "text/plain": [
       "director_name           0\n",
       "cast                    0\n",
       "crew                    0\n",
       "budget                  0\n",
       "genres                  0\n",
       "keywords                0\n",
       "original_language       0\n",
       "original_title          0\n",
       "overview                0\n",
       "popularity              0\n",
       "production_companies    0\n",
       "production_countries    0\n",
       "release_date            0\n",
       "revenue                 0\n",
       "runtime                 0\n",
       "spoken_languages        0\n",
       "status                  0\n",
       "tagline                 0\n",
       "title                   0\n",
       "vote_average            0\n",
       "vote_count              0\n",
       "year                    0\n",
       "ceremony                0\n",
       "award                   0\n",
       "winner                  0\n",
       "name                    0\n",
       "film                    0\n",
       "dtype: int64"
      ]
     },
     "execution_count": 19,
     "metadata": {},
     "output_type": "execute_result"
    }
   ],
   "source": [
    "#check number of null values in the dataset\n",
    "df_new.isnull().sum()"
   ]
  },
  {
   "cell_type": "code",
   "execution_count": 20,
   "metadata": {},
   "outputs": [
    {
     "data": {
      "text/plain": [
       "director_name                   object\n",
       "cast                            object\n",
       "crew                            object\n",
       "budget                           int64\n",
       "genres                          object\n",
       "keywords                        object\n",
       "original_language               object\n",
       "original_title                  object\n",
       "overview                        object\n",
       "popularity                     float64\n",
       "production_companies            object\n",
       "production_countries            object\n",
       "release_date            datetime64[ns]\n",
       "revenue                          int64\n",
       "runtime                        float64\n",
       "spoken_languages                object\n",
       "status                          object\n",
       "tagline                         object\n",
       "title                           object\n",
       "vote_average                   float64\n",
       "vote_count                       int64\n",
       "year                             int64\n",
       "ceremony                       float64\n",
       "award                           object\n",
       "winner                         float64\n",
       "name                            object\n",
       "film                            object\n",
       "dtype: object"
      ]
     },
     "execution_count": 20,
     "metadata": {},
     "output_type": "execute_result"
    }
   ],
   "source": [
    "#Exploratory Data Analysis\n",
    "\n",
    "# check the data types and select numeric variables\n",
    "df_new.dtypes"
   ]
  },
  {
   "cell_type": "code",
   "execution_count": 21,
   "metadata": {},
   "outputs": [
    {
     "data": {
      "image/png": "[encoded data removed]",
      "text/plain": [
       "<Figure size 432x288 with 2 Axes>"
      ]
     },
     "metadata": {
      "needs_background": "light"
     },
     "output_type": "display_data"
    }
   ],
   "source": [
    "# correlation analysis\n",
    "g = sns.heatmap(df_new[['budget','popularity','revenue','runtime','vote_average','vote_count']].corr(),cmap='RdYlGn',annot=True)"
   ]
  },
  {
   "cell_type": "code",
   "execution_count": 22,
   "metadata": {},
   "outputs": [
    {
     "data": {
      "image/png": "[encoded data removed]",
      "text/plain": [
       "<Figure size 432x288 with 1 Axes>"
      ]
     },
     "metadata": {
      "needs_background": "light"
     },
     "output_type": "display_data"
    }
   ],
   "source": [
    "# Density Curve\n",
    "# budget\n",
    "budget0 = df_new[df_new['winner'] == 0]['budget']\n",
    "budget1 = df_new[df_new['winner'] == 1]['budget']\n",
    "\n",
    "g = sns.kdeplot(budget0, legend = True, shade=True, color='r',label = 'non-nominated')\n",
    "g = sns.kdeplot(budget1, legend = True, shade=True, color='b', label = 'nonminated')"
   ]
  },
  {
   "cell_type": "code",
   "execution_count": 23,
   "metadata": {},
   "outputs": [
    {
     "data": {
      "image/png": "[encoded data removed]",
      "text/plain": [
       "<Figure size 432x288 with 1 Axes>"
      ]
     },
     "metadata": {
      "needs_background": "light"
     },
     "output_type": "display_data"
    }
   ],
   "source": [
    "# revenue\n",
    "# density curve\n",
    "revenue0 = df_new[df_new['winner'] == 0]['revenue']\n",
    "revenue1 = df_new[df_new['winner'] == 1]['revenue']\n",
    "\n",
    "g = sns.kdeplot(revenue0, legend = True, shade=True, color='r',label = 'non-nominated')\n",
    "g = sns.kdeplot(revenue1, legend = True, shade=True, color='b', label = 'nonminated')"
   ]
  },
  {
   "cell_type": "code",
   "execution_count": 24,
   "metadata": {},
   "outputs": [
    {
     "data": {
      "image/png": "[encoded data removed]",
      "text/plain": [
       "<Figure size 432x288 with 1 Axes>"
      ]
     },
     "metadata": {
      "needs_background": "light"
     },
     "output_type": "display_data"
    }
   ],
   "source": [
    "# vote count\n",
    "vc0 = df_new[df_new['winner'] == 0]['vote_count']\n",
    "vc1 = df_new[df_new['winner'] == 1]['vote_count']\n",
    "\n",
    "g = sns.kdeplot(vc0, legend = True, shade=True, color='r',label = 'non-nominated')\n",
    "g = sns.kdeplot(vc1, legend = True, shade=True, color='b', label = 'nonminated')"
   ]
  },
  {
   "cell_type": "code",
   "execution_count": 25,
   "metadata": {},
   "outputs": [
    {
     "data": {
      "image/png": "[encoded data removed]",
      "text/plain": [
       "<Figure size 432x288 with 1 Axes>"
      ]
     },
     "metadata": {
      "needs_background": "light"
     },
     "output_type": "display_data"
    }
   ],
   "source": [
    "# vote average\n",
    "va0 = df_new[df_new['winner'] == 0]['vote_average']\n",
    "va1 = df_new[df_new['winner'] == 1]['vote_average']\n",
    "\n",
    "g = sns.kdeplot(va0, legend = True, shade=True, color='r',label = 'non-nominated')\n",
    "g = sns.kdeplot(va1, legend = True, shade=True, color='b', label = 'nonminated')"
   ]
  },
  {
   "cell_type": "code",
   "execution_count": 26,
   "metadata": {},
   "outputs": [
    {
     "data": {
      "image/png": "[encoded data removed]",
      "text/plain": [
       "<Figure size 432x288 with 1 Axes>"
      ]
     },
     "metadata": {
      "needs_background": "light"
     },
     "output_type": "display_data"
    }
   ],
   "source": [
    "# popularity\n",
    "popularity0 = df_new[df_new['winner'] == 0]['popularity']\n",
    "popularity1 = df_new[df_new['winner'] == 1]['popularity']\n",
    "\n",
    "g = sns.kdeplot(popularity0, legend = True, shade=True, color='r',label = 'non-nominated')\n",
    "g = sns.kdeplot(popularity1, legend = True, shade=True, color='b', label = 'nonminated')"
   ]
  },
  {
   "cell_type": "code",
   "execution_count": 27,
   "metadata": {},
   "outputs": [
    {
     "data": {
      "image/png": "[encoded data removed]",
      "text/plain": [
       "<Figure size 432x288 with 1 Axes>"
      ]
     },
     "metadata": {
      "needs_background": "light"
     },
     "output_type": "display_data"
    }
   ],
   "source": [
    "#runtime\n",
    "runtime0 = df_new[df_new['winner'] == 0]['runtime']\n",
    "runtime1 = df_new[df_new['winner'] == 1]['runtime']\n",
    "\n",
    "g = sns.kdeplot(runtime0, legend = True, shade=True, color='r', label = 'non-nominated')\n",
    "g = sns.kdeplot(runtime1, legend = True, shade=True, color='b', label = 'nonminated')"
   ]
  },
  {
   "cell_type": "code",
   "execution_count": 28,
   "metadata": {},
   "outputs": [],
   "source": [
    "#genres\n",
    "#clean the data\n",
    "genres_name0 = {}\n",
    "genres_name1 = {}\n",
    "genres_set = set()\n",
    "for i in range(len(df_new)):\n",
    "    genres = json.loads(df_new.loc[i,'genres'])\n",
    "    for it in genres:\n",
    "        genres_set.add(it['name'])\n",
    "        if df_new.loc[i,'winner'] == 0:\n",
    "            if it['name'] not in genres_name0:\n",
    "                genres_name0[it['name']] = 1\n",
    "            else:\n",
    "                genres_name0[it['name']] += 1\n",
    "        if df_new.loc[i,'winner'] == 1:\n",
    "            if it['name'] not in genres_name1:\n",
    "                genres_name1[it['name']] = 1\n",
    "            else:\n",
    "                genres_name1[it['name']] += 1\n",
    "\n",
    "genres_array0=[]\n",
    "genres_array1=[]\n",
    "for g in genres_set:\n",
    "    if g in genres_name0:\n",
    "        genres_array0.append(genres_name0[g])\n",
    "    else:\n",
    "        genres_array0.append(0)\n",
    "    if g in genres_name1:\n",
    "        genres_array1.append(genres_name1[g])\n",
    "    else:\n",
    "        genres_array1.append(0)\n",
    "\n",
    "\n",
    "        \n",
    "genres_all = []\n",
    "genres_all.append(np.array(genres_array0)/sum(genres_array0))\n",
    "genres_all.append(np.array(genres_array1)/sum(genres_array1))"
   ]
  },
  {
   "cell_type": "code",
   "execution_count": 29,
   "metadata": {},
   "outputs": [
    {
     "name": "stdout",
     "output_type": "stream",
     "text": [
      "    Western   Mystery    Family     Drama   Romance  Adventure     Crime  \\\n",
      "0  0.008646  0.028818  0.046110  0.203650  0.065322   0.060519  0.061479   \n",
      "1  0.014286  0.020408  0.016327  0.365306  0.097959   0.048980  0.061224   \n",
      "\n",
      "    History    Comedy   Fantasy    Action   Foreign  Science Fiction  \\\n",
      "0  0.018252  0.135447  0.028818  0.089337  0.002882         0.043228   \n",
      "1  0.071429  0.065306  0.024490  0.051020  0.000000         0.014286   \n",
      "\n",
      "        War    Horror  Documentary  Thriller     Music  Animation  \n",
      "0  0.014409  0.047070     0.009606  0.105668  0.015370    0.01537  \n",
      "1  0.051020  0.004082     0.000000  0.073469  0.020408    0.00000  \n"
     ]
    }
   ],
   "source": [
    "df_genres = pd.DataFrame(genres_all, columns=list(genres_set))\n",
    "print(df_genres.head())"
   ]
  },
  {
   "cell_type": "code",
   "execution_count": 30,
   "metadata": {},
   "outputs": [
    {
     "data": {
      "text/plain": [
       "<matplotlib.legend.Legend at 0x201cd9b9860>"
      ]
     },
     "execution_count": 30,
     "metadata": {},
     "output_type": "execute_result"
    },
    {
     "data": {
      "image/png": "[encoded data removed]",
      "text/plain": [
       "<Figure size 1440x720 with 1 Axes>"
      ]
     },
     "metadata": {
      "needs_background": "light"
     },
     "output_type": "display_data"
    }
   ],
   "source": [
    "# draw stacked bar chart\n",
    "N = len(df_genres.columns)\n",
    "ind = np.arange(N)\n",
    "width = 0.45\n",
    "\n",
    "plt.figure(figsize=(20,10))\n",
    "p1 = plt.bar(ind, df_genres.loc[[0]].values[0], width, color='#d62728')\n",
    "p2 = plt.bar(ind, df_genres.loc[[1]].values[0], width, bottom=df_genres.loc[[0]].values[0])\n",
    "\n",
    "\n",
    "plt.ylabel('percentage (#genres/#movies)')\n",
    "plt.title('Percentage by genres and nominations')\n",
    "plt.xticks(ind,df_genres.columns)\n",
    "plt.legend((p1[0],p2[0]),('Non-nominees','nominees'))"
   ]
  },
  {
   "cell_type": "code",
   "execution_count": 31,
   "metadata": {},
   "outputs": [],
   "source": [
    "# Feature Engineering\n",
    "# Since many columns such as “crew”, “cast” contain information in json format, we need to extract useful information from the columns and then perform one hot encoding.\n",
    "# We will transform our dataset into a all numeric matrix so that we can feed the data into our machine learning model.\n",
    "# To look at the structure of column (eg.”cast”), we can use: df.loc[0,’cast’]\n",
    "import json\n",
    "def feature_engineering(column_name, df, json_name):\n",
    "    \"\"\"\n",
    "    Args:\n",
    "        column_name: the column name in the dataframe that contains a json file that needs to conduct feature engineering on\n",
    "        df: dataframe that perform feature engineering on\n",
    "        json_name: name in the json file that we want to extract\n",
    "    \n",
    "    Returns: new dataframe after feature engineering\n",
    "    \"\"\"\n",
    "    \n",
    "    name = {}\n",
    "\n",
    "    for item in df[column_name]:\n",
    "        group = json.loads(item)\n",
    "        for it in group:\n",
    "            if it[json_name] not in name:\n",
    "                name[it[json_name]] = 1\n",
    "            else:\n",
    "                name[it[json_name]] += 1\n",
    "    \n",
    "    final = {}\n",
    "    index = 0\n",
    "    for k,v in name.items():\n",
    "        if v > 1:\n",
    "            final[k] = index\n",
    "            index += 1\n",
    "    np_item = np.zeros((len(df),len(final)))\n",
    "    item_dict = {}\n",
    "    row = 0\n",
    "    for item in df[column_name]:\n",
    "        group = json.loads(item)\n",
    "        for it in group:\n",
    "            if it[json_name] in final:\n",
    "                index = final[it[json_name]]\n",
    "                np_item[row][index] = 1\n",
    "        row += 1\n",
    "\n",
    "    df_item = pd.DataFrame(np_item, columns = list(final.keys()))\n",
    "    df_output = pd.concat([df,df_item],axis = 1)\n",
    "    \n",
    "    return df_output"
   ]
  },
  {
   "cell_type": "code",
   "execution_count": 32,
   "metadata": {},
   "outputs": [],
   "source": [
    "df2 = feature_engineering(\"cast\", df_new, \"name\")\n",
    "df2 = df2.drop('cast', axis = 1) #drop the column after feature engineering"
   ]
  },
  {
   "cell_type": "code",
   "execution_count": 33,
   "metadata": {},
   "outputs": [],
   "source": [
    "# director\n",
    "crew_name = {}\n",
    "\n",
    "for item in df2['crew']:\n",
    "    crew = json.loads(item)\n",
    "    for it in crew:\n",
    "        if it['job'] == 'Director':\n",
    "            if it['name'] not in crew_name:\n",
    "                crew_name[it['name']] = 1\n",
    "            else:\n",
    "                crew_name[it['name']]+=1\n",
    "\n",
    "\n",
    "# set the appear tims for actors\n",
    "final_crew = {}\n",
    "index = 0\n",
    "for k,v in crew_name.items():\n",
    "    if v > 0:\n",
    "        final_crew[k] = index\n",
    "        index += 1\n",
    "# print(len(final_crew))\n",
    "\n",
    "np_crew = np.zeros((len(df2), len(final_crew)))\n",
    "row = 0\n",
    "for item in df2['crew']:\n",
    "    crew = json.loads(item)\n",
    "    for it in crew:\n",
    "        if it['job'] == 'Director':\n",
    "            if it['name'] in final_crew:\n",
    "                index = final_crew[it['name']]\n",
    "                np_crew[row][index] = 1\n",
    "    row += 1\n",
    "\n",
    "df_crew = pd.DataFrame(np_crew, columns = list(final_crew.keys()))\n",
    "            \n",
    "df3 = pd.concat([df2, df_crew], axis = 1)\n",
    "# print(df.shape)"
   ]
  },
  {
   "cell_type": "code",
   "execution_count": 34,
   "metadata": {},
   "outputs": [],
   "source": [
    "df3=df3.drop(['crew'],axis=1)\n",
    "#genres\n",
    "df4 = feature_engineering(\"genres\", df3, \"name\")\n",
    "df4 = df4.drop(['genres'], axis = 1)\n",
    "#keywords\n",
    "df5 = feature_engineering('keywords', df4, 'name')\n",
    "df5 = df5.drop(['keywords'], axis = 1)\n",
    "#production_companies\n",
    "df6 = feature_engineering('production_companies',df5,'name')\n",
    "df6 = df6.drop(['production_companies'],axis=1)\n",
    "#production_countries\n",
    "df7 = feature_engineering('production_countries',df6,'name')\n",
    "df7 = df7.drop(['production_countries'],axis=1)\n",
    "#spoken_languages\n",
    "df8 = feature_engineering('spoken_languages',df7,'iso_639_1')\n",
    "df8 = df8.drop(['spoken_languages'],axis=1)\n",
    "# drop the columns not used\n",
    "df_clean = df8.drop([\"director_name\",\"original_title\",\"overview\",\"tagline\",'title','original_language','status','release_date','name','film','award'],axis=1)"
   ]
  },
  {
   "cell_type": "code",
   "execution_count": 35,
   "metadata": {},
   "outputs": [
    {
     "data": {
      "text/html": [
       "<div>\n",
       "<style scoped>\n",
       "    .dataframe tbody tr th:only-of-type {\n",
       "        vertical-align: middle;\n",
       "    }\n",
       "\n",
       "    .dataframe tbody tr th {\n",
       "        vertical-align: top;\n",
       "    }\n",
       "\n",
       "    .dataframe thead th {\n",
       "        text-align: right;\n",
       "    }\n",
       "</style>\n",
       "<table border=\"1\" class=\"dataframe\">\n",
       "  <thead>\n",
       "    <tr style=\"text-align: right;\">\n",
       "      <th></th>\n",
       "      <th>budget</th>\n",
       "      <th>popularity</th>\n",
       "      <th>revenue</th>\n",
       "      <th>runtime</th>\n",
       "      <th>vote_average</th>\n",
       "      <th>vote_count</th>\n",
       "      <th>year</th>\n",
       "      <th>ceremony</th>\n",
       "      <th>winner</th>\n",
       "      <th>James Caan</th>\n",
       "      <th>...</th>\n",
       "      <th>fi</th>\n",
       "      <th>fa</th>\n",
       "      <th>th</th>\n",
       "      <th>sv</th>\n",
       "      <th>vi</th>\n",
       "      <th>hy</th>\n",
       "      <th>el</th>\n",
       "      <th>tr</th>\n",
       "      <th>ko</th>\n",
       "      <th>cs</th>\n",
       "    </tr>\n",
       "  </thead>\n",
       "  <tbody>\n",
       "    <tr>\n",
       "      <th>0</th>\n",
       "      <td>22000000</td>\n",
       "      <td>20.256571</td>\n",
       "      <td>50750000</td>\n",
       "      <td>175.0</td>\n",
       "      <td>6.9</td>\n",
       "      <td>207</td>\n",
       "      <td>0</td>\n",
       "      <td>0.0</td>\n",
       "      <td>0.0</td>\n",
       "      <td>1.0</td>\n",
       "      <td>...</td>\n",
       "      <td>0.0</td>\n",
       "      <td>0.0</td>\n",
       "      <td>0.0</td>\n",
       "      <td>0.0</td>\n",
       "      <td>0.0</td>\n",
       "      <td>0.0</td>\n",
       "      <td>0.0</td>\n",
       "      <td>0.0</td>\n",
       "      <td>0.0</td>\n",
       "      <td>0.0</td>\n",
       "    </tr>\n",
       "    <tr>\n",
       "      <th>1</th>\n",
       "      <td>135000000</td>\n",
       "      <td>39.873791</td>\n",
       "      <td>245623848</td>\n",
       "      <td>112.0</td>\n",
       "      <td>5.8</td>\n",
       "      <td>963</td>\n",
       "      <td>0</td>\n",
       "      <td>0.0</td>\n",
       "      <td>0.0</td>\n",
       "      <td>0.0</td>\n",
       "      <td>...</td>\n",
       "      <td>0.0</td>\n",
       "      <td>0.0</td>\n",
       "      <td>0.0</td>\n",
       "      <td>0.0</td>\n",
       "      <td>0.0</td>\n",
       "      <td>0.0</td>\n",
       "      <td>0.0</td>\n",
       "      <td>0.0</td>\n",
       "      <td>0.0</td>\n",
       "      <td>0.0</td>\n",
       "    </tr>\n",
       "    <tr>\n",
       "      <th>2</th>\n",
       "      <td>0</td>\n",
       "      <td>4.052219</td>\n",
       "      <td>4291965</td>\n",
       "      <td>101.0</td>\n",
       "      <td>6.4</td>\n",
       "      <td>25</td>\n",
       "      <td>0</td>\n",
       "      <td>0.0</td>\n",
       "      <td>0.0</td>\n",
       "      <td>0.0</td>\n",
       "      <td>...</td>\n",
       "      <td>0.0</td>\n",
       "      <td>0.0</td>\n",
       "      <td>0.0</td>\n",
       "      <td>0.0</td>\n",
       "      <td>0.0</td>\n",
       "      <td>0.0</td>\n",
       "      <td>0.0</td>\n",
       "      <td>0.0</td>\n",
       "      <td>0.0</td>\n",
       "      <td>0.0</td>\n",
       "    </tr>\n",
       "    <tr>\n",
       "      <th>3</th>\n",
       "      <td>0</td>\n",
       "      <td>0.589540</td>\n",
       "      <td>0</td>\n",
       "      <td>106.0</td>\n",
       "      <td>0.0</td>\n",
       "      <td>0</td>\n",
       "      <td>0</td>\n",
       "      <td>0.0</td>\n",
       "      <td>0.0</td>\n",
       "      <td>0.0</td>\n",
       "      <td>...</td>\n",
       "      <td>0.0</td>\n",
       "      <td>0.0</td>\n",
       "      <td>0.0</td>\n",
       "      <td>0.0</td>\n",
       "      <td>0.0</td>\n",
       "      <td>0.0</td>\n",
       "      <td>0.0</td>\n",
       "      <td>0.0</td>\n",
       "      <td>0.0</td>\n",
       "      <td>0.0</td>\n",
       "    </tr>\n",
       "    <tr>\n",
       "      <th>4</th>\n",
       "      <td>2800000</td>\n",
       "      <td>9.070842</td>\n",
       "      <td>19170001</td>\n",
       "      <td>88.0</td>\n",
       "      <td>5.3</td>\n",
       "      <td>192</td>\n",
       "      <td>0</td>\n",
       "      <td>0.0</td>\n",
       "      <td>0.0</td>\n",
       "      <td>0.0</td>\n",
       "      <td>...</td>\n",
       "      <td>0.0</td>\n",
       "      <td>0.0</td>\n",
       "      <td>0.0</td>\n",
       "      <td>0.0</td>\n",
       "      <td>0.0</td>\n",
       "      <td>0.0</td>\n",
       "      <td>0.0</td>\n",
       "      <td>0.0</td>\n",
       "      <td>0.0</td>\n",
       "      <td>0.0</td>\n",
       "    </tr>\n",
       "  </tbody>\n",
       "</table>\n",
       "<p>5 rows × 3787 columns</p>\n",
       "</div>"
      ],
      "text/plain": [
       "      budget  popularity    revenue  runtime  vote_average  vote_count  year  \\\n",
       "0   22000000   20.256571   50750000    175.0           6.9         207     0   \n",
       "1  135000000   39.873791  245623848    112.0           5.8         963     0   \n",
       "2          0    4.052219    4291965    101.0           6.4          25     0   \n",
       "3          0    0.589540          0    106.0           0.0           0     0   \n",
       "4    2800000    9.070842   19170001     88.0           5.3         192     0   \n",
       "\n",
       "   ceremony  winner  James Caan ...    fi   fa   th   sv   vi   hy   el   tr  \\\n",
       "0       0.0     0.0         1.0 ...   0.0  0.0  0.0  0.0  0.0  0.0  0.0  0.0   \n",
       "1       0.0     0.0         0.0 ...   0.0  0.0  0.0  0.0  0.0  0.0  0.0  0.0   \n",
       "2       0.0     0.0         0.0 ...   0.0  0.0  0.0  0.0  0.0  0.0  0.0  0.0   \n",
       "3       0.0     0.0         0.0 ...   0.0  0.0  0.0  0.0  0.0  0.0  0.0  0.0   \n",
       "4       0.0     0.0         0.0 ...   0.0  0.0  0.0  0.0  0.0  0.0  0.0  0.0   \n",
       "\n",
       "    ko   cs  \n",
       "0  0.0  0.0  \n",
       "1  0.0  0.0  \n",
       "2  0.0  0.0  \n",
       "3  0.0  0.0  \n",
       "4  0.0  0.0  \n",
       "\n",
       "[5 rows x 3787 columns]"
      ]
     },
     "execution_count": 35,
     "metadata": {},
     "output_type": "execute_result"
    }
   ],
   "source": [
    "df_clean.head()"
   ]
  },
  {
   "cell_type": "code",
   "execution_count": 36,
   "metadata": {},
   "outputs": [],
   "source": [
    "# Model Training\n",
    "# split\n",
    "X = df_clean[df_clean.columns.difference(['winner'])]\n",
    "# X = StandardScaler().fit_transform(X)\n",
    "y = df_clean['winner']\n",
    "from sklearn.model_selection import train_test_split\n",
    "# test_size: what proportion of original data is used for test set\n",
    "X_train, X_test, y_train, y_test = train_test_split(X, y, test_size=1/5.0, random_state=0)"
   ]
  },
  {
   "cell_type": "code",
   "execution_count": 37,
   "metadata": {},
   "outputs": [],
   "source": [
    "from sklearn.decomposition import PCA\n",
    "pca = PCA(0.95)\n",
    "fit = pca.fit(X_train)\n",
    "\n",
    "X_train = pca.transform(X_train)\n",
    "X_test = pca.transform(X_test)\n",
    "# pca = PCA(n_components = 3)\n",
    "# fit = pca.fit_transform(X)\n",
    "# fit2 = pca.fit(X)\n",
    "# print(\"Explained Variance: %s\" % pca.explained_variance_ratio_) \n",
    "# print(fit)"
   ]
  },
  {
   "cell_type": "code",
   "execution_count": 38,
   "metadata": {},
   "outputs": [
    {
     "data": {
      "text/plain": [
       "LogisticRegression(C=1.0, class_weight=None, dual=False, fit_intercept=True,\n",
       "          intercept_scaling=1, max_iter=100, multi_class='warn',\n",
       "          n_jobs=None, penalty='l2', random_state=None, solver='liblinear',\n",
       "          tol=0.0001, verbose=0, warm_start=False)"
      ]
     },
     "execution_count": 38,
     "metadata": {},
     "output_type": "execute_result"
    }
   ],
   "source": [
    "from sklearn.linear_model import LogisticRegression\n",
    "\n",
    "# all parameters not specified are set to their defaults\n",
    "# For small datasets, ‘liblinear’ is a good choice\n",
    "logisticRegr = LogisticRegression(solver = 'liblinear')\n",
    "logisticRegr.fit(X_train, y_train)"
   ]
  },
  {
   "cell_type": "code",
   "execution_count": 39,
   "metadata": {},
   "outputs": [
    {
     "name": "stdout",
     "output_type": "stream",
     "text": [
      "[1. 0. 1. 0. 0. 1. 0. 0. 0. 0. 0. 1. 0. 0. 0. 0. 0. 0. 0. 1. 0. 0. 0. 0.\n",
      " 0. 0. 0. 0. 0. 0. 0. 0. 0. 0. 0. 0. 0. 0. 0. 0. 0. 0. 0. 0. 0. 1. 1. 0.\n",
      " 1. 0. 0. 0. 1. 0. 0. 0. 0. 0. 0. 0. 0. 0. 0. 1. 0. 0. 0. 0. 0. 0. 0. 0.\n",
      " 1. 0. 0. 0. 1. 0. 1. 0. 1. 1. 0. 1. 0. 0. 0. 0. 1. 0. 0. 0. 0. 1. 0. 0.\n",
      " 0. 0. 0. 0. 0. 1. 0. 1. 0. 0. 0. 0. 1. 0. 0. 1. 0. 0. 1. 0. 1. 0. 0. 1.\n",
      " 0.]\n",
      "Int64Index([573,  52, 528, 343,  55,  62, 346, 304, 206, 405,\n",
      "            ...\n",
      "            386,  75,  10, 249, 597, 548, 477, 293, 491, 278],\n",
      "           dtype='int64', length=121)\n"
     ]
    }
   ],
   "source": [
    "# Predict for One Observation\n",
    "predicted = logisticRegr.predict(X_test)\n",
    "print(logisticRegr.predict(X_test))\n",
    "print(y_test.index)\n",
    "# df8['director_name'][y_test.index]"
   ]
  },
  {
   "cell_type": "code",
   "execution_count": 40,
   "metadata": {},
   "outputs": [
    {
     "data": {
      "text/plain": [
       "0.71900826446281"
      ]
     },
     "execution_count": 40,
     "metadata": {},
     "output_type": "execute_result"
    }
   ],
   "source": [
    "logisticRegr.score(X_test, y_test) # 0.71900826446281"
   ]
  },
  {
   "cell_type": "code",
   "execution_count": 41,
   "metadata": {},
   "outputs": [
    {
     "name": "stdout",
     "output_type": "stream",
     "text": [
      "0.38461538461538464\n"
     ]
    }
   ],
   "source": [
    "from sklearn.metrics import confusion_matrix\n",
    "tn, fp, fn, tp = confusion_matrix(y_test, predicted).ravel()\n",
    "sensitivity = tp/(tp+fn)\n",
    "print(sensitivity) # 0.41025641025641024"
   ]
  },
  {
   "cell_type": "code",
   "execution_count": 42,
   "metadata": {},
   "outputs": [
    {
     "name": "stdout",
     "output_type": "stream",
     "text": [
      "0.8533522861881071\n"
     ]
    }
   ],
   "source": [
    "# Improvement: Cross Validation\n",
    "# 3-fold Cross validation\n",
    "from sklearn.model_selection import StratifiedKFold\n",
    "skf = StratifiedKFold(n_splits=3)\n",
    "sumAccuracy = []\n",
    "for train,test in skf.split(X,y):\n",
    "#     logisticRegr.fit(df_clean.iloc[train][], )\n",
    "    df_train = df_clean.iloc[train]\n",
    "    df_test = df_clean.iloc[test]\n",
    "    train_X = df_train[df_clean.columns.difference(['winner'])]\n",
    "    train_y = df_train['winner']\n",
    "    test_X = df_test[df_clean.columns.difference(['winner'])]\n",
    "    test_y = df_test['winner']\n",
    "    logisticRegr.fit(train_X, train_y)\n",
    "    sumAccuracy.append(logisticRegr.score(test_X, test_y))\n",
    "avg = np.mean(sumAccuracy)\n",
    "print(avg) # 0.8946319306586933\n",
    "#     print(df_clean.iloc[train,df_clean.columns.difference(['winner'])])"
   ]
  }
 ],
 "metadata": {
  "kernelspec": {
   "display_name": "Python 3",
   "language": "python",
   "name": "python3"
  },
  "language_info": {
   "codemirror_mode": {
    "name": "ipython",
    "version": 3
   },
   "file_extension": ".py",
   "mimetype": "text/x-python",
   "name": "python",
   "nbconvert_exporter": "python",
   "pygments_lexer": "ipython3",
   "version": "3.7.1"
  }
 },
 "nbformat": 4,
 "nbformat_minor": 2
}
