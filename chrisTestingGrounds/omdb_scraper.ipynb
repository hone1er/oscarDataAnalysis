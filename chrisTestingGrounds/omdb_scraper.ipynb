{
 "cells": [
  {
   "cell_type": "code",
   "execution_count": 1,
   "metadata": {},
   "outputs": [],
   "source": [
    "import pandas as pd\n",
    "import requests\n",
    "import json\n",
    "from sqlalchemy import create_engine\n",
    "from config import omdbkey\n",
    "from pprint import pprint\n",
    "#from user import name\n",
    "#from passwurd import pwd\n",
    "\n",
    "# Import csv file\n",
    "#movie_data = #pd.read_csv(\"c_grosses.csv\")\n",
    "\n",
    "# list of movie titles to query\n",
    "#movies = movie_data['title']\n",
    "#ranks = movie_data['rank']"
   ]
  },
  {
   "cell_type": "code",
   "execution_count": 2,
   "metadata": {},
   "outputs": [],
   "source": [
    "# Build the endpoint URL\n",
    "url = 'http://www.omdbapi.com/?'\n",
    "api_key = f'apikey={omdbkey}&t='"
   ]
  },
  {
   "cell_type": "code",
   "execution_count": 3,
   "metadata": {
    "scrolled": true
   },
   "outputs": [
    {
     "name": "stdout",
     "output_type": "stream",
     "text": [
      "Just a Breath Away {'Response': 'False', 'Error': 'Movie not found!'}\n",
      "Elliot The Littlest Reindeer {'Response': 'False', 'Error': 'Movie not found!'}\n",
      "['Just a Breath Away', 'Elliot The Littlest Reindeer']\n"
     ]
    }
   ],
   "source": [
    "# set up lists to hold response data:\n",
    "# 'Title'\n",
    "movie_titles = []\n",
    "# 'Rated'\n",
    "movie_ratings = []\n",
    "# 'imdbRating'\n",
    "movie_imdbscores = []\n",
    "# 'Director'\n",
    "movie_directors = []\n",
    "# junk list\n",
    "junk_list = []\n",
    "\n",
    "# loop through movie titles, make requests and parse\n",
    "for movie in movies :\n",
    "    response = requests.get(url + api_key + movie).json()\n",
    "    try:\n",
    "        movie_titles.append(response['Title'])\n",
    "        movie_ratings.append(response['Rated'])\n",
    "        movie_imdbscores.append(response['imdbRating'])\n",
    "        movie_directors.append(response['Director'])\n",
    "    except:\n",
    "        print(movie, response)\n",
    "        junk_list.append(movie)\n",
    "print(junk_list)"
   ]
  },
  {
   "cell_type": "code",
   "execution_count": 6,
   "metadata": {},
   "outputs": [
    {
     "name": "stdout",
     "output_type": "stream",
     "text": [
      "Length of Ranks Series:  304\n",
      "Just a Breath Away\n",
      "Int64Index([266], dtype='int64') 266\n",
      "Elliot The Littlest Reindeer\n",
      "Int64Index([286], dtype='int64') 286\n",
      "Length of Ranks Series:  302\n"
     ]
    }
   ],
   "source": [
    "print(\"Length of Ranks Series: \" , len(ranks))\n",
    "for junk in junk_list:\n",
    "    print(junk)\n",
    "    i=movies[movies==junk]\n",
    "    print(i.index, i.index[0])\n",
    "    ranks = ranks.drop(i.index[0])\n",
    "print(\"Length of Ranks Series: \" , len(ranks))"
   ]
  },
  {
   "cell_type": "code",
   "execution_count": 7,
   "metadata": {
    "scrolled": false
   },
   "outputs": [
    {
     "data": {
      "text/html": [
       "<div>\n",
       "<style scoped>\n",
       "    .dataframe tbody tr th:only-of-type {\n",
       "        vertical-align: middle;\n",
       "    }\n",
       "\n",
       "    .dataframe tbody tr th {\n",
       "        vertical-align: top;\n",
       "    }\n",
       "\n",
       "    .dataframe thead th {\n",
       "        text-align: right;\n",
       "    }\n",
       "</style>\n",
       "<table border=\"1\" class=\"dataframe\">\n",
       "  <thead>\n",
       "    <tr style=\"text-align: right;\">\n",
       "      <th></th>\n",
       "      <th>title</th>\n",
       "      <th>rank</th>\n",
       "      <th>rating</th>\n",
       "      <th>imdbscore</th>\n",
       "      <th>movie_directors</th>\n",
       "    </tr>\n",
       "  </thead>\n",
       "  <tbody>\n",
       "    <tr>\n",
       "      <th>0</th>\n",
       "      <td>Avengers: Infinity War</td>\n",
       "      <td>1</td>\n",
       "      <td>PG-13</td>\n",
       "      <td>8.5</td>\n",
       "      <td>Anthony Russo, Joe Russo</td>\n",
       "    </tr>\n",
       "    <tr>\n",
       "      <th>1</th>\n",
       "      <td>Black Panther</td>\n",
       "      <td>2</td>\n",
       "      <td>PG-13</td>\n",
       "      <td>7.3</td>\n",
       "      <td>Ryan Coogler</td>\n",
       "    </tr>\n",
       "    <tr>\n",
       "      <th>2</th>\n",
       "      <td>Jurassic World: Fallen Kingdom</td>\n",
       "      <td>3</td>\n",
       "      <td>PG-13</td>\n",
       "      <td>6.2</td>\n",
       "      <td>J.A. Bayona</td>\n",
       "    </tr>\n",
       "    <tr>\n",
       "      <th>3</th>\n",
       "      <td>Incredibles 2</td>\n",
       "      <td>4</td>\n",
       "      <td>PG</td>\n",
       "      <td>7.7</td>\n",
       "      <td>Brad Bird</td>\n",
       "    </tr>\n",
       "    <tr>\n",
       "      <th>4</th>\n",
       "      <td>Aquaman</td>\n",
       "      <td>5</td>\n",
       "      <td>PG-13</td>\n",
       "      <td>7.1</td>\n",
       "      <td>James Wan</td>\n",
       "    </tr>\n",
       "  </tbody>\n",
       "</table>\n",
       "</div>"
      ],
      "text/plain": [
       "                            title  rank rating imdbscore  \\\n",
       "0          Avengers: Infinity War     1  PG-13       8.5   \n",
       "1                   Black Panther     2  PG-13       7.3   \n",
       "2  Jurassic World: Fallen Kingdom     3  PG-13       6.2   \n",
       "3                   Incredibles 2     4     PG       7.7   \n",
       "4                         Aquaman     5  PG-13       7.1   \n",
       "\n",
       "            movie_directors  \n",
       "0  Anthony Russo, Joe Russo  \n",
       "1              Ryan Coogler  \n",
       "2               J.A. Bayona  \n",
       "3                 Brad Bird  \n",
       "4                 James Wan  "
      ]
     },
     "execution_count": 7,
     "metadata": {},
     "output_type": "execute_result"
    }
   ],
   "source": [
    "# save data to pandas dataframe\n",
    "movies_df = pd.DataFrame({\n",
    "    \"title\": movie_titles,\n",
    "    \"rank\": ranks,\n",
    "    \"rating\": movie_ratings,\n",
    "    \"imdbscore\": movie_imdbscores,\n",
    "    \"movie_directors\": movie_directors,\n",
    "})\n",
    "movies_df.head()"
   ]
  },
  {
   "cell_type": "code",
   "execution_count": 8,
   "metadata": {},
   "outputs": [],
   "source": [
    "movies_df.to_csv('c_movies_omdb.csv', index=False)"
   ]
  },
  {
   "cell_type": "code",
   "execution_count": null,
   "metadata": {},
   "outputs": [],
   "source": []
  }
 ],
 "metadata": {
  "kernelspec": {
   "display_name": "Python 3",
   "language": "python",
   "name": "python3"
  },
  "language_info": {
   "codemirror_mode": {
    "name": "ipython",
    "version": 3
   },
   "file_extension": ".py",
   "mimetype": "text/x-python",
   "name": "python",
   "nbconvert_exporter": "python",
   "pygments_lexer": "ipython3",
   "version": "3.7.1"
  }
 },
 "nbformat": 4,
 "nbformat_minor": 2
}
