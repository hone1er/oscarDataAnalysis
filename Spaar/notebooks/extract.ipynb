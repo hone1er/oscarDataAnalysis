{
 "cells": [
  {
   "cell_type": "code",
   "execution_count": 1,
   "metadata": {},
   "outputs": [],
   "source": [
    "import pandas as pd\n",
    "from tqdm import tqdm\n",
    "import time\n",
    "from splinter import Browser\n",
    "from bs4 import BeautifulSoup as bs"
   ]
  },
  {
   "cell_type": "code",
   "execution_count": null,
   "metadata": {},
   "outputs": [
    {
     "name": "stdout",
     "output_type": "stream",
     "text": [
      "Enter a movie title: Tears of the Sun\n"
     ]
    }
   ],
   "source": [
    "#*   Prohibits truncatation of data in prints.\n",
    "pd.set_option('display.max_colwidth', -1)\n",
    "\n",
    "#*   User input of which movie to munge attributes for then predict against the model. The\n",
    "#*   input is turned to all lower case to account for any sort of user casing input.\n",
    "movieToSearch = str(input(\"Enter a movie title: \")).lower()  #\"Toy Story 4\""
   ]
  },
  {
   "cell_type": "code",
   "execution_count": null,
   "metadata": {},
   "outputs": [],
   "source": [
    "titleBasics = pd.read_csv(\"/Users/nicolespaar/Documents/title.basics.tsv\", sep='\\t', header=0, low_memory=False)\n",
    "\n",
    "lowercased_titles = []\n",
    "count = 0\n",
    "for row in titleBasics.iterrows():\n",
    "    try:\n",
    "        lower = row[1].primaryTitle.lower()\n",
    "        lowercased_titles.append(lower)\n",
    "    except:\n",
    "        count += 1\n",
    "        lowercased_titles.append(\"n/a\")\n",
    "print(f\"{count} movies had no 'primaryTitle'\")\n",
    "titleBasics['lowercasedTitle'] = lowercased_titles\n",
    "\n",
    "titleBasics.head(3)"
   ]
  },
  {
   "cell_type": "code",
   "execution_count": null,
   "metadata": {},
   "outputs": [],
   "source": [
    "titleCrew = pd.read_csv(\"/Users/nicolespaar/Documents/title.crew.tsv\", sep='\\t', header=0)\n",
    "titleCrew.head(3)"
   ]
  },
  {
   "cell_type": "code",
   "execution_count": null,
   "metadata": {},
   "outputs": [],
   "source": [
    "nameBasics = pd.read_csv(\"/Users/nicolespaar/Documents/name.basics.tsv\", sep='\\t', header=0, index_col='nconst')\n",
    "nameBasics.head(3)"
   ]
  },
  {
   "cell_type": "code",
   "execution_count": null,
   "metadata": {},
   "outputs": [],
   "source": [
    "titlePrincipals = pd.read_csv(\"/Users/nicolespaar/Documents/title.principals.tsv\", sep='\\t', header=0, index_col='nconst')\n",
    "#titlePrincipalsRow = titlePrincipals[titlePrincipals['tconst'] == tconst[1:]]\n",
    "titlePrincipals.head(3)"
   ]
  },
  {
   "cell_type": "code",
   "execution_count": null,
   "metadata": {},
   "outputs": [],
   "source": [
    "def bugFixer(affectedList):\n",
    "    '''\n",
    "    bugFixer() receives a python list/array and checks each item to see if its 0th character\n",
    "    is whitespace. If it is, the whitespace is removed and appended to a new list. If it is\n",
    "    not, the item is appended to the same new list. The new list with no items' first\n",
    "    character being whitespace is then returned.\n",
    "    '''\n",
    "    fixedList = []\n",
    "    for item in affectedList:\n",
    "        if item[0] == \" \":\n",
    "            fixedItem = item[1:]\n",
    "            fixedList.append(fixedItem)\n",
    "        else:\n",
    "            fixedList.append(item)\n",
    "    return fixedList\n",
    "\n",
    "\n",
    "#!---- ---- ---- ---- If $movieToSearch exists in db ---- ---- ---- ----!#\n",
    "def tconstMunge():\n",
    "    tconst = titleBasicsRow.tconst.to_string(index=False)[1:]\n",
    "    return tconst\n",
    "\n",
    "def genresMunge():\n",
    "    genres_raw = titleBasicsRow.genres.to_string(index=False).split(\",\")\n",
    "    genres = bugFixer(genres_raw)\n",
    "    return genres\n",
    "\n",
    "def entitiesMunge():\n",
    "    titleCrewRow = titleCrew[titleCrew['tconst'] == tconst[1:]]\n",
    "    crew_directors = titleCrewRow.directors.to_string(index=False).split(\",\")\n",
    "    crew_writers = titleCrewRow.writers.to_string(index=False).split(\",\")\n",
    "    titlePrincipalsRow = titlePrincipals[titlePrincipals['tconst'] == tconst[1:]]\n",
    "    \n",
    "    cast_actors = []\n",
    "    cast_actors_jobs = []\n",
    "    cast_other = []\n",
    "    cast_other_jobs = []\n",
    "    \n",
    "    for row in titlePrincipalsRow.iterrows():\n",
    "        x = row[1].category\n",
    "        if (x in ('actor', 'actress')):\n",
    "            cast_actors.append(row[0])\n",
    "            cast_actors_jobs.append(row[1].job)\n",
    "        else:\n",
    "            cast_other.append(row[0])\n",
    "            cast_other_jobs.append(row[1].job)\n",
    "            \n",
    "    return cast_actors, cast_actors_jobs, cast_other, cast_other_jobs, crew_directors, \n",
    "           crew_writers\n",
    "    \n",
    "    \n",
    "    \n",
    "\n",
    "#!---- ---- ---- ---- If $movieToSearch does NOT exist in db ---- ---- ---- ----!#"
   ]
  },
  {
   "cell_type": "code",
   "execution_count": null,
   "metadata": {},
   "outputs": [],
   "source": [
    "#   Try to match the user's input movie title to an existing row in the IMDB dataset. If it is\n",
    "#   found, the row is isolated and its tconst and genres are extracted.\n",
    "titleBasicsArray = titleBasics[titleBasics['lowercasedTitle'] == movieToSearch]\n",
    "titleBasicsRow = titleBasicsArray[titleBasicsArray['titleType'] == 'movie']\n",
    "try:\n",
    "        z = titleBasicsRow.iloc[0]\n",
    "        tconst = tconstMunge()\n",
    "        genres = genresMunge()\n",
    "        cast_actors, cast_actors_jobs, cast_other, cast_other_jobs, crew_directors,\n",
    "        crew_writers = entitiesMunge()\n",
    "        print(\"Movie Found!\")\n",
    "        print(\"title: \", movieToSearch, \"\\ntconst: \", tconst, \"\\ngenres: \", genres, \"actors: \",\n",
    "             cast_actors, \"\\nactors' jobs: \", cast_actors_jobs, \"\\nnon-actors: \", cast_other,\n",
    "             \"\\nnon-actors' jobs: \", cast_other_jobs, \"\\ndirectors: \", crew_directors, \n",
    "             \"\\nwriters: \", crew_writers)\n",
    "except:\n",
    "    print(\"[!] Movie not Found, Searching Interwebs..\")\n",
    "\n",
    "\n",
    "\n"
   ]
  },
  {
   "cell_type": "code",
   "execution_count": null,
   "metadata": {},
   "outputs": [],
   "source": []
  },
  {
   "cell_type": "code",
   "execution_count": null,
   "metadata": {},
   "outputs": [],
   "source": []
  }
 ],
 "metadata": {
  "kernelspec": {
   "display_name": "Python 3",
   "language": "python",
   "name": "python3"
  },
  "language_info": {
   "codemirror_mode": {
    "name": "ipython",
    "version": 3
   },
   "file_extension": ".py",
   "mimetype": "text/x-python",
   "name": "python",
   "nbconvert_exporter": "python",
   "pygments_lexer": "ipython3",
   "version": "3.7.1"
  }
 },
 "nbformat": 4,
 "nbformat_minor": 2
}
